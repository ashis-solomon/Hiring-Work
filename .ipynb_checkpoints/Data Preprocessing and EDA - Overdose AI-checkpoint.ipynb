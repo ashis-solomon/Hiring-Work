{
 "cells": [
  {
   "cell_type": "code",
   "execution_count": 69,
   "id": "da49cf7a",
   "metadata": {},
   "outputs": [],
   "source": [
    "import numpy as np\n",
    "import pandas as pd\n",
    "import matplotlib.pyplot as plt\n",
    "import seaborn as sns\n",
    "import re\n",
    "\n",
    "pd.set_option('display.max_columns', 500)"
   ]
  },
  {
   "cell_type": "code",
   "execution_count": 4,
   "id": "da6420f0",
   "metadata": {},
   "outputs": [],
   "source": [
    "dataset = pd.read_excel('./daily_offers.xlsx')"
   ]
  },
  {
   "cell_type": "code",
   "execution_count": 5,
   "id": "677f2dd0",
   "metadata": {},
   "outputs": [
    {
     "data": {
      "text/plain": [
       "(181673, 14)"
      ]
     },
     "execution_count": 5,
     "metadata": {},
     "output_type": "execute_result"
    }
   ],
   "source": [
    "dataset.shape"
   ]
  },
  {
   "cell_type": "code",
   "execution_count": 6,
   "id": "99d4efe2",
   "metadata": {
    "scrolled": true
   },
   "outputs": [
    {
     "data": {
      "text/html": [
       "<div>\n",
       "<style scoped>\n",
       "    .dataframe tbody tr th:only-of-type {\n",
       "        vertical-align: middle;\n",
       "    }\n",
       "\n",
       "    .dataframe tbody tr th {\n",
       "        vertical-align: top;\n",
       "    }\n",
       "\n",
       "    .dataframe thead th {\n",
       "        text-align: right;\n",
       "    }\n",
       "</style>\n",
       "<table border=\"1\" class=\"dataframe\">\n",
       "  <thead>\n",
       "    <tr style=\"text-align: right;\">\n",
       "      <th></th>\n",
       "      <th>id</th>\n",
       "      <th>item_date</th>\n",
       "      <th>quantity tons</th>\n",
       "      <th>customer</th>\n",
       "      <th>country</th>\n",
       "      <th>status</th>\n",
       "      <th>item type</th>\n",
       "      <th>application</th>\n",
       "      <th>thickness</th>\n",
       "      <th>width</th>\n",
       "      <th>material_ref</th>\n",
       "      <th>product_ref</th>\n",
       "      <th>delivery date</th>\n",
       "      <th>selling_price</th>\n",
       "    </tr>\n",
       "  </thead>\n",
       "  <tbody>\n",
       "    <tr>\n",
       "      <th>0</th>\n",
       "      <td>EC06F063-9DF0-440C-8764-0B0C05A4F6AE</td>\n",
       "      <td>20210401.0</td>\n",
       "      <td>54.151139</td>\n",
       "      <td>30156308.0</td>\n",
       "      <td>28.0</td>\n",
       "      <td>Won</td>\n",
       "      <td>W</td>\n",
       "      <td>10.0</td>\n",
       "      <td>2.00</td>\n",
       "      <td>1500.0</td>\n",
       "      <td>DEQ1 S460MC</td>\n",
       "      <td>1670798778</td>\n",
       "      <td>20210701.0</td>\n",
       "      <td>854.00</td>\n",
       "    </tr>\n",
       "    <tr>\n",
       "      <th>1</th>\n",
       "      <td>4E5F4B3D-DDDF-499D-AFDE-A3227EC49425</td>\n",
       "      <td>20210401.0</td>\n",
       "      <td>768.024839</td>\n",
       "      <td>30202938.0</td>\n",
       "      <td>25.0</td>\n",
       "      <td>Won</td>\n",
       "      <td>W</td>\n",
       "      <td>41.0</td>\n",
       "      <td>0.80</td>\n",
       "      <td>1210.0</td>\n",
       "      <td>0000000000000000000000000000000000104991</td>\n",
       "      <td>1668701718</td>\n",
       "      <td>20210401.0</td>\n",
       "      <td>1047.00</td>\n",
       "    </tr>\n",
       "    <tr>\n",
       "      <th>2</th>\n",
       "      <td>E140FF1B-2407-4C02-A0DD-780A093B1158</td>\n",
       "      <td>20210401.0</td>\n",
       "      <td>386.127949</td>\n",
       "      <td>30153963.0</td>\n",
       "      <td>30.0</td>\n",
       "      <td>Won</td>\n",
       "      <td>WI</td>\n",
       "      <td>28.0</td>\n",
       "      <td>0.38</td>\n",
       "      <td>952.0</td>\n",
       "      <td>S0380700</td>\n",
       "      <td>628377</td>\n",
       "      <td>20210101.0</td>\n",
       "      <td>644.33</td>\n",
       "    </tr>\n",
       "    <tr>\n",
       "      <th>3</th>\n",
       "      <td>F8D507A0-9C62-4EFE-831E-33E1DA53BB50</td>\n",
       "      <td>20210401.0</td>\n",
       "      <td>202.411065</td>\n",
       "      <td>30349574.0</td>\n",
       "      <td>32.0</td>\n",
       "      <td>Won</td>\n",
       "      <td>S</td>\n",
       "      <td>59.0</td>\n",
       "      <td>2.30</td>\n",
       "      <td>1317.0</td>\n",
       "      <td>DX51D+ZM310MAO 2.3X1317</td>\n",
       "      <td>1668701718</td>\n",
       "      <td>20210101.0</td>\n",
       "      <td>768.00</td>\n",
       "    </tr>\n",
       "    <tr>\n",
       "      <th>4</th>\n",
       "      <td>4E1C4E78-152B-430A-8094-ADD889C9D0AD</td>\n",
       "      <td>20210401.0</td>\n",
       "      <td>785.526262</td>\n",
       "      <td>30211560.0</td>\n",
       "      <td>28.0</td>\n",
       "      <td>Won</td>\n",
       "      <td>W</td>\n",
       "      <td>10.0</td>\n",
       "      <td>4.00</td>\n",
       "      <td>2000.0</td>\n",
       "      <td>2_S275JR+AR-CL1</td>\n",
       "      <td>640665</td>\n",
       "      <td>20210301.0</td>\n",
       "      <td>577.00</td>\n",
       "    </tr>\n",
       "  </tbody>\n",
       "</table>\n",
       "</div>"
      ],
      "text/plain": [
       "                                     id   item_date quantity tons    customer  \\\n",
       "0  EC06F063-9DF0-440C-8764-0B0C05A4F6AE  20210401.0     54.151139  30156308.0   \n",
       "1  4E5F4B3D-DDDF-499D-AFDE-A3227EC49425  20210401.0    768.024839  30202938.0   \n",
       "2  E140FF1B-2407-4C02-A0DD-780A093B1158  20210401.0    386.127949  30153963.0   \n",
       "3  F8D507A0-9C62-4EFE-831E-33E1DA53BB50  20210401.0    202.411065  30349574.0   \n",
       "4  4E1C4E78-152B-430A-8094-ADD889C9D0AD  20210401.0    785.526262  30211560.0   \n",
       "\n",
       "   country status item type  application  thickness   width  \\\n",
       "0     28.0    Won         W         10.0       2.00  1500.0   \n",
       "1     25.0    Won         W         41.0       0.80  1210.0   \n",
       "2     30.0    Won        WI         28.0       0.38   952.0   \n",
       "3     32.0    Won         S         59.0       2.30  1317.0   \n",
       "4     28.0    Won         W         10.0       4.00  2000.0   \n",
       "\n",
       "                               material_ref  product_ref  delivery date  \\\n",
       "0                               DEQ1 S460MC   1670798778     20210701.0   \n",
       "1  0000000000000000000000000000000000104991   1668701718     20210401.0   \n",
       "2                                  S0380700       628377     20210101.0   \n",
       "3                   DX51D+ZM310MAO 2.3X1317   1668701718     20210101.0   \n",
       "4                           2_S275JR+AR-CL1       640665     20210301.0   \n",
       "\n",
       "   selling_price  \n",
       "0         854.00  \n",
       "1        1047.00  \n",
       "2         644.33  \n",
       "3         768.00  \n",
       "4         577.00  "
      ]
     },
     "execution_count": 6,
     "metadata": {},
     "output_type": "execute_result"
    }
   ],
   "source": [
    "dataset.head()"
   ]
  },
  {
   "cell_type": "code",
   "execution_count": 7,
   "id": "6f0185b4",
   "metadata": {},
   "outputs": [
    {
     "data": {
      "text/plain": [
       "Index(['id', 'item_date', 'quantity tons', 'customer', 'country', 'status',\n",
       "       'item type', 'application', 'thickness', 'width', 'material_ref',\n",
       "       'product_ref', 'delivery date', 'selling_price'],\n",
       "      dtype='object')"
      ]
     },
     "execution_count": 7,
     "metadata": {},
     "output_type": "execute_result"
    }
   ],
   "source": [
    "dataset.columns"
   ]
  },
  {
   "cell_type": "code",
   "execution_count": 8,
   "id": "1a8c4079",
   "metadata": {},
   "outputs": [
    {
     "name": "stdout",
     "output_type": "stream",
     "text": [
      "<class 'pandas.core.frame.DataFrame'>\n",
      "RangeIndex: 181673 entries, 0 to 181672\n",
      "Data columns (total 14 columns):\n",
      " #   Column         Non-Null Count   Dtype  \n",
      "---  ------         --------------   -----  \n",
      " 0   id             181671 non-null  object \n",
      " 1   item_date      181672 non-null  float64\n",
      " 2   quantity tons  181673 non-null  object \n",
      " 3   customer       181672 non-null  float64\n",
      " 4   country        181645 non-null  float64\n",
      " 5   status         181671 non-null  object \n",
      " 6   item type      181673 non-null  object \n",
      " 7   application    181649 non-null  float64\n",
      " 8   thickness      181672 non-null  float64\n",
      " 9   width          181673 non-null  float64\n",
      " 10  material_ref   103754 non-null  object \n",
      " 11  product_ref    181673 non-null  int64  \n",
      " 12  delivery date  181672 non-null  float64\n",
      " 13  selling_price  181672 non-null  float64\n",
      "dtypes: float64(8), int64(1), object(5)\n",
      "memory usage: 19.4+ MB\n"
     ]
    }
   ],
   "source": [
    "dataset.info()"
   ]
  },
  {
   "cell_type": "code",
   "execution_count": 907,
   "id": "766b4fb4",
   "metadata": {},
   "outputs": [
    {
     "data": {
      "text/plain": [
       "<AxesSubplot:>"
      ]
     },
     "execution_count": 907,
     "metadata": {},
     "output_type": "execute_result"
    },
    {
     "data": {
      "image/png": "[encoded data removed]",
      "text/plain": [
       "<Figure size 1800x900 with 2 Axes>"
      ]
     },
     "metadata": {},
     "output_type": "display_data"
    }
   ],
   "source": [
    "plt.figure(figsize = (18,9))\n",
    "sns.heatmap(dataset.corr(),annot=True, cmap='RdYlBu',linewidths=0.5)"
   ]
  },
  {
   "cell_type": "markdown",
   "id": "fe3b56d5",
   "metadata": {},
   "source": [
    "### The correlation of selling_price with the other features is very low. There is not much we can do with the dataset.. but i'll just give it a go."
   ]
  },
  {
   "cell_type": "code",
   "execution_count": 761,
   "id": "b93ea8a7",
   "metadata": {},
   "outputs": [],
   "source": [
    "df = dataset.copy()"
   ]
  },
  {
   "cell_type": "code",
   "execution_count": 762,
   "id": "16c83816",
   "metadata": {},
   "outputs": [
    {
     "data": {
      "text/html": [
       "<div>\n",
       "<style scoped>\n",
       "    .dataframe tbody tr th:only-of-type {\n",
       "        vertical-align: middle;\n",
       "    }\n",
       "\n",
       "    .dataframe tbody tr th {\n",
       "        vertical-align: top;\n",
       "    }\n",
       "\n",
       "    .dataframe thead th {\n",
       "        text-align: right;\n",
       "    }\n",
       "</style>\n",
       "<table border=\"1\" class=\"dataframe\">\n",
       "  <thead>\n",
       "    <tr style=\"text-align: right;\">\n",
       "      <th></th>\n",
       "      <th>id</th>\n",
       "      <th>item_date</th>\n",
       "      <th>quantity tons</th>\n",
       "      <th>customer</th>\n",
       "      <th>country</th>\n",
       "      <th>status</th>\n",
       "      <th>item type</th>\n",
       "      <th>application</th>\n",
       "      <th>thickness</th>\n",
       "      <th>width</th>\n",
       "      <th>material_ref</th>\n",
       "      <th>product_ref</th>\n",
       "      <th>delivery date</th>\n",
       "      <th>selling_price</th>\n",
       "    </tr>\n",
       "  </thead>\n",
       "  <tbody>\n",
       "    <tr>\n",
       "      <th>0</th>\n",
       "      <td>EC06F063-9DF0-440C-8764-0B0C05A4F6AE</td>\n",
       "      <td>20210401.0</td>\n",
       "      <td>54.151139</td>\n",
       "      <td>30156308.0</td>\n",
       "      <td>28.0</td>\n",
       "      <td>Won</td>\n",
       "      <td>W</td>\n",
       "      <td>10.0</td>\n",
       "      <td>2.00</td>\n",
       "      <td>1500.0</td>\n",
       "      <td>DEQ1 S460MC</td>\n",
       "      <td>1670798778</td>\n",
       "      <td>20210701.0</td>\n",
       "      <td>854.00</td>\n",
       "    </tr>\n",
       "    <tr>\n",
       "      <th>1</th>\n",
       "      <td>4E5F4B3D-DDDF-499D-AFDE-A3227EC49425</td>\n",
       "      <td>20210401.0</td>\n",
       "      <td>768.024839</td>\n",
       "      <td>30202938.0</td>\n",
       "      <td>25.0</td>\n",
       "      <td>Won</td>\n",
       "      <td>W</td>\n",
       "      <td>41.0</td>\n",
       "      <td>0.80</td>\n",
       "      <td>1210.0</td>\n",
       "      <td>0000000000000000000000000000000000104991</td>\n",
       "      <td>1668701718</td>\n",
       "      <td>20210401.0</td>\n",
       "      <td>1047.00</td>\n",
       "    </tr>\n",
       "    <tr>\n",
       "      <th>2</th>\n",
       "      <td>E140FF1B-2407-4C02-A0DD-780A093B1158</td>\n",
       "      <td>20210401.0</td>\n",
       "      <td>386.127949</td>\n",
       "      <td>30153963.0</td>\n",
       "      <td>30.0</td>\n",
       "      <td>Won</td>\n",
       "      <td>WI</td>\n",
       "      <td>28.0</td>\n",
       "      <td>0.38</td>\n",
       "      <td>952.0</td>\n",
       "      <td>S0380700</td>\n",
       "      <td>628377</td>\n",
       "      <td>20210101.0</td>\n",
       "      <td>644.33</td>\n",
       "    </tr>\n",
       "    <tr>\n",
       "      <th>3</th>\n",
       "      <td>F8D507A0-9C62-4EFE-831E-33E1DA53BB50</td>\n",
       "      <td>20210401.0</td>\n",
       "      <td>202.411065</td>\n",
       "      <td>30349574.0</td>\n",
       "      <td>32.0</td>\n",
       "      <td>Won</td>\n",
       "      <td>S</td>\n",
       "      <td>59.0</td>\n",
       "      <td>2.30</td>\n",
       "      <td>1317.0</td>\n",
       "      <td>DX51D+ZM310MAO 2.3X1317</td>\n",
       "      <td>1668701718</td>\n",
       "      <td>20210101.0</td>\n",
       "      <td>768.00</td>\n",
       "    </tr>\n",
       "    <tr>\n",
       "      <th>4</th>\n",
       "      <td>4E1C4E78-152B-430A-8094-ADD889C9D0AD</td>\n",
       "      <td>20210401.0</td>\n",
       "      <td>785.526262</td>\n",
       "      <td>30211560.0</td>\n",
       "      <td>28.0</td>\n",
       "      <td>Won</td>\n",
       "      <td>W</td>\n",
       "      <td>10.0</td>\n",
       "      <td>4.00</td>\n",
       "      <td>2000.0</td>\n",
       "      <td>2_S275JR+AR-CL1</td>\n",
       "      <td>640665</td>\n",
       "      <td>20210301.0</td>\n",
       "      <td>577.00</td>\n",
       "    </tr>\n",
       "    <tr>\n",
       "      <th>...</th>\n",
       "      <td>...</td>\n",
       "      <td>...</td>\n",
       "      <td>...</td>\n",
       "      <td>...</td>\n",
       "      <td>...</td>\n",
       "      <td>...</td>\n",
       "      <td>...</td>\n",
       "      <td>...</td>\n",
       "      <td>...</td>\n",
       "      <td>...</td>\n",
       "      <td>...</td>\n",
       "      <td>...</td>\n",
       "      <td>...</td>\n",
       "      <td>...</td>\n",
       "    </tr>\n",
       "    <tr>\n",
       "      <th>181668</th>\n",
       "      <td>DE633116-D1DF-4846-982E-55EFC3658A76</td>\n",
       "      <td>20200702.0</td>\n",
       "      <td>102.482422</td>\n",
       "      <td>30200854.0</td>\n",
       "      <td>25.0</td>\n",
       "      <td>Won</td>\n",
       "      <td>W</td>\n",
       "      <td>41.0</td>\n",
       "      <td>0.96</td>\n",
       "      <td>1220.0</td>\n",
       "      <td>0000000000000000000000000000000001000777</td>\n",
       "      <td>164141591</td>\n",
       "      <td>20200701.0</td>\n",
       "      <td>591.00</td>\n",
       "    </tr>\n",
       "    <tr>\n",
       "      <th>181669</th>\n",
       "      <td>A48374B1-E6DB-45F2-889A-1F9C27C099EB</td>\n",
       "      <td>20200702.0</td>\n",
       "      <td>208.086469</td>\n",
       "      <td>30200854.0</td>\n",
       "      <td>25.0</td>\n",
       "      <td>Won</td>\n",
       "      <td>W</td>\n",
       "      <td>41.0</td>\n",
       "      <td>0.95</td>\n",
       "      <td>1500.0</td>\n",
       "      <td>0000000000000000000000000000000001000227</td>\n",
       "      <td>164141591</td>\n",
       "      <td>20200701.0</td>\n",
       "      <td>589.00</td>\n",
       "    </tr>\n",
       "    <tr>\n",
       "      <th>181670</th>\n",
       "      <td>91643238-5C7B-4237-9A5F-63AE3D35F320</td>\n",
       "      <td>20200702.0</td>\n",
       "      <td>4.235594</td>\n",
       "      <td>30200854.0</td>\n",
       "      <td>25.0</td>\n",
       "      <td>Won</td>\n",
       "      <td>W</td>\n",
       "      <td>41.0</td>\n",
       "      <td>0.71</td>\n",
       "      <td>1250.0</td>\n",
       "      <td>0000000000000000000000000000000001004216</td>\n",
       "      <td>164141591</td>\n",
       "      <td>20200701.0</td>\n",
       "      <td>619.00</td>\n",
       "    </tr>\n",
       "    <tr>\n",
       "      <th>181671</th>\n",
       "      <td>7AFFD323-01D9-4E15-B80D-7D1B03498FC8</td>\n",
       "      <td>20200702.0</td>\n",
       "      <td>-2000</td>\n",
       "      <td>30200854.0</td>\n",
       "      <td>25.0</td>\n",
       "      <td>Won</td>\n",
       "      <td>W</td>\n",
       "      <td>41.0</td>\n",
       "      <td>0.85</td>\n",
       "      <td>1250.0</td>\n",
       "      <td>0000000000000000000000000000000001001149</td>\n",
       "      <td>164141591</td>\n",
       "      <td>20200701.0</td>\n",
       "      <td>601.00</td>\n",
       "    </tr>\n",
       "    <tr>\n",
       "      <th>181672</th>\n",
       "      <td>AD0CA853-AE3C-4B2F-9FBB-8B0B965F84BC</td>\n",
       "      <td>20200702.0</td>\n",
       "      <td>406.686538</td>\n",
       "      <td>30200854.0</td>\n",
       "      <td>25.0</td>\n",
       "      <td>Won</td>\n",
       "      <td>W</td>\n",
       "      <td>41.0</td>\n",
       "      <td>0.71</td>\n",
       "      <td>1240.0</td>\n",
       "      <td>0000000000000000000000000000000001005439</td>\n",
       "      <td>164141591</td>\n",
       "      <td>20200701.0</td>\n",
       "      <td>607.00</td>\n",
       "    </tr>\n",
       "  </tbody>\n",
       "</table>\n",
       "<p>181673 rows × 14 columns</p>\n",
       "</div>"
      ],
      "text/plain": [
       "                                          id   item_date quantity tons  \\\n",
       "0       EC06F063-9DF0-440C-8764-0B0C05A4F6AE  20210401.0     54.151139   \n",
       "1       4E5F4B3D-DDDF-499D-AFDE-A3227EC49425  20210401.0    768.024839   \n",
       "2       E140FF1B-2407-4C02-A0DD-780A093B1158  20210401.0    386.127949   \n",
       "3       F8D507A0-9C62-4EFE-831E-33E1DA53BB50  20210401.0    202.411065   \n",
       "4       4E1C4E78-152B-430A-8094-ADD889C9D0AD  20210401.0    785.526262   \n",
       "...                                      ...         ...           ...   \n",
       "181668  DE633116-D1DF-4846-982E-55EFC3658A76  20200702.0    102.482422   \n",
       "181669  A48374B1-E6DB-45F2-889A-1F9C27C099EB  20200702.0    208.086469   \n",
       "181670  91643238-5C7B-4237-9A5F-63AE3D35F320  20200702.0      4.235594   \n",
       "181671  7AFFD323-01D9-4E15-B80D-7D1B03498FC8  20200702.0         -2000   \n",
       "181672  AD0CA853-AE3C-4B2F-9FBB-8B0B965F84BC  20200702.0    406.686538   \n",
       "\n",
       "          customer  country status item type  application  thickness   width  \\\n",
       "0       30156308.0     28.0    Won         W         10.0       2.00  1500.0   \n",
       "1       30202938.0     25.0    Won         W         41.0       0.80  1210.0   \n",
       "2       30153963.0     30.0    Won        WI         28.0       0.38   952.0   \n",
       "3       30349574.0     32.0    Won         S         59.0       2.30  1317.0   \n",
       "4       30211560.0     28.0    Won         W         10.0       4.00  2000.0   \n",
       "...            ...      ...    ...       ...          ...        ...     ...   \n",
       "181668  30200854.0     25.0    Won         W         41.0       0.96  1220.0   \n",
       "181669  30200854.0     25.0    Won         W         41.0       0.95  1500.0   \n",
       "181670  30200854.0     25.0    Won         W         41.0       0.71  1250.0   \n",
       "181671  30200854.0     25.0    Won         W         41.0       0.85  1250.0   \n",
       "181672  30200854.0     25.0    Won         W         41.0       0.71  1240.0   \n",
       "\n",
       "                                    material_ref  product_ref  delivery date  \\\n",
       "0                                    DEQ1 S460MC   1670798778     20210701.0   \n",
       "1       0000000000000000000000000000000000104991   1668701718     20210401.0   \n",
       "2                                       S0380700       628377     20210101.0   \n",
       "3                        DX51D+ZM310MAO 2.3X1317   1668701718     20210101.0   \n",
       "4                                2_S275JR+AR-CL1       640665     20210301.0   \n",
       "...                                          ...          ...            ...   \n",
       "181668  0000000000000000000000000000000001000777    164141591     20200701.0   \n",
       "181669  0000000000000000000000000000000001000227    164141591     20200701.0   \n",
       "181670  0000000000000000000000000000000001004216    164141591     20200701.0   \n",
       "181671  0000000000000000000000000000000001001149    164141591     20200701.0   \n",
       "181672  0000000000000000000000000000000001005439    164141591     20200701.0   \n",
       "\n",
       "        selling_price  \n",
       "0              854.00  \n",
       "1             1047.00  \n",
       "2              644.33  \n",
       "3              768.00  \n",
       "4              577.00  \n",
       "...               ...  \n",
       "181668         591.00  \n",
       "181669         589.00  \n",
       "181670         619.00  \n",
       "181671         601.00  \n",
       "181672         607.00  \n",
       "\n",
       "[181673 rows x 14 columns]"
      ]
     },
     "execution_count": 762,
     "metadata": {},
     "output_type": "execute_result"
    }
   ],
   "source": [
    "df"
   ]
  },
  {
   "cell_type": "code",
   "execution_count": 763,
   "id": "5babf74c",
   "metadata": {
    "scrolled": true
   },
   "outputs": [
    {
     "name": "stdout",
     "output_type": "stream",
     "text": [
      "<class 'pandas.core.frame.DataFrame'>\n",
      "RangeIndex: 181673 entries, 0 to 181672\n",
      "Data columns (total 14 columns):\n",
      " #   Column         Non-Null Count   Dtype  \n",
      "---  ------         --------------   -----  \n",
      " 0   id             181671 non-null  object \n",
      " 1   item_date      181672 non-null  float64\n",
      " 2   quantity tons  181673 non-null  object \n",
      " 3   customer       181672 non-null  float64\n",
      " 4   country        181645 non-null  float64\n",
      " 5   status         181671 non-null  object \n",
      " 6   item type      181673 non-null  object \n",
      " 7   application    181649 non-null  float64\n",
      " 8   thickness      181672 non-null  float64\n",
      " 9   width          181673 non-null  float64\n",
      " 10  material_ref   103754 non-null  object \n",
      " 11  product_ref    181673 non-null  int64  \n",
      " 12  delivery date  181672 non-null  float64\n",
      " 13  selling_price  181672 non-null  float64\n",
      "dtypes: float64(8), int64(1), object(5)\n",
      "memory usage: 19.4+ MB\n"
     ]
    }
   ],
   "source": [
    "df.info()"
   ]
  },
  {
   "cell_type": "code",
   "execution_count": 764,
   "id": "a7e692a5",
   "metadata": {},
   "outputs": [
    {
     "data": {
      "text/plain": [
       "id                   2\n",
       "item_date            1\n",
       "quantity tons        0\n",
       "customer             1\n",
       "country             28\n",
       "status               2\n",
       "item type            0\n",
       "application         24\n",
       "thickness            1\n",
       "width                0\n",
       "material_ref     77919\n",
       "product_ref          0\n",
       "delivery date        1\n",
       "selling_price        1\n",
       "dtype: int64"
      ]
     },
     "execution_count": 764,
     "metadata": {},
     "output_type": "execute_result"
    }
   ],
   "source": [
    "df.isna().sum()"
   ]
  },
  {
   "cell_type": "code",
   "execution_count": null,
   "id": "8285a955",
   "metadata": {},
   "outputs": [],
   "source": []
  },
  {
   "cell_type": "markdown",
   "id": "f69e7d7a",
   "metadata": {},
   "source": [
    "# Analyze each columns and Fill Missing Values"
   ]
  },
  {
   "cell_type": "markdown",
   "id": "d789be1b",
   "metadata": {},
   "source": [
    "#### id"
   ]
  },
  {
   "cell_type": "code",
   "execution_count": 765,
   "id": "ca55fc61",
   "metadata": {},
   "outputs": [
    {
     "data": {
      "text/plain": [
       "count                                   181671\n",
       "unique                                  181671\n",
       "top       EC06F063-9DF0-440C-8764-0B0C05A4F6AE\n",
       "freq                                         1\n",
       "Name: id, dtype: object"
      ]
     },
     "execution_count": 765,
     "metadata": {},
     "output_type": "execute_result"
    }
   ],
   "source": [
    "df['id'].describe()"
   ]
  },
  {
   "cell_type": "code",
   "execution_count": 766,
   "id": "01eae825",
   "metadata": {},
   "outputs": [
    {
     "data": {
      "text/plain": [
       "0         EC06F063-9DF0-440C-8764-0B0C05A4F6AE\n",
       "1         4E5F4B3D-DDDF-499D-AFDE-A3227EC49425\n",
       "2         E140FF1B-2407-4C02-A0DD-780A093B1158\n",
       "3         F8D507A0-9C62-4EFE-831E-33E1DA53BB50\n",
       "4         4E1C4E78-152B-430A-8094-ADD889C9D0AD\n",
       "                          ...                 \n",
       "181668    DE633116-D1DF-4846-982E-55EFC3658A76\n",
       "181669    A48374B1-E6DB-45F2-889A-1F9C27C099EB\n",
       "181670    91643238-5C7B-4237-9A5F-63AE3D35F320\n",
       "181671    7AFFD323-01D9-4E15-B80D-7D1B03498FC8\n",
       "181672    AD0CA853-AE3C-4B2F-9FBB-8B0B965F84BC\n",
       "Name: id, Length: 181673, dtype: object"
      ]
     },
     "execution_count": 766,
     "metadata": {},
     "output_type": "execute_result"
    }
   ],
   "source": [
    "df['id']"
   ]
  },
  {
   "cell_type": "code",
   "execution_count": 767,
   "id": "06c52f8f",
   "metadata": {},
   "outputs": [
    {
     "data": {
      "text/html": [
       "<div>\n",
       "<style scoped>\n",
       "    .dataframe tbody tr th:only-of-type {\n",
       "        vertical-align: middle;\n",
       "    }\n",
       "\n",
       "    .dataframe tbody tr th {\n",
       "        vertical-align: top;\n",
       "    }\n",
       "\n",
       "    .dataframe thead th {\n",
       "        text-align: right;\n",
       "    }\n",
       "</style>\n",
       "<table border=\"1\" class=\"dataframe\">\n",
       "  <thead>\n",
       "    <tr style=\"text-align: right;\">\n",
       "      <th></th>\n",
       "      <th>id</th>\n",
       "      <th>item_date</th>\n",
       "      <th>quantity tons</th>\n",
       "      <th>customer</th>\n",
       "      <th>country</th>\n",
       "      <th>status</th>\n",
       "      <th>item type</th>\n",
       "      <th>application</th>\n",
       "      <th>thickness</th>\n",
       "      <th>width</th>\n",
       "      <th>material_ref</th>\n",
       "      <th>product_ref</th>\n",
       "      <th>delivery date</th>\n",
       "      <th>selling_price</th>\n",
       "    </tr>\n",
       "  </thead>\n",
       "  <tbody>\n",
       "    <tr>\n",
       "      <th>26</th>\n",
       "      <td>NaN</td>\n",
       "      <td>20210401.0</td>\n",
       "      <td>15.92799</td>\n",
       "      <td>30271717.0</td>\n",
       "      <td>28.0</td>\n",
       "      <td>To be approved</td>\n",
       "      <td>W</td>\n",
       "      <td>10.0</td>\n",
       "      <td>0.8</td>\n",
       "      <td>1000.0</td>\n",
       "      <td>NaN</td>\n",
       "      <td>611993</td>\n",
       "      <td>20210701.0</td>\n",
       "      <td>1208.0</td>\n",
       "    </tr>\n",
       "    <tr>\n",
       "      <th>104566</th>\n",
       "      <td>NaN</td>\n",
       "      <td>20201113.0</td>\n",
       "      <td>27.096376</td>\n",
       "      <td>30197989.0</td>\n",
       "      <td>27.0</td>\n",
       "      <td>Won</td>\n",
       "      <td>W</td>\n",
       "      <td>59.0</td>\n",
       "      <td>2.8</td>\n",
       "      <td>959.0</td>\n",
       "      <td>HRCL_DD 12 2.8X959</td>\n",
       "      <td>640665</td>\n",
       "      <td>20201201.0</td>\n",
       "      <td>551.0</td>\n",
       "    </tr>\n",
       "  </tbody>\n",
       "</table>\n",
       "</div>"
      ],
      "text/plain": [
       "         id   item_date quantity tons    customer  country          status  \\\n",
       "26      NaN  20210401.0      15.92799  30271717.0     28.0  To be approved   \n",
       "104566  NaN  20201113.0     27.096376  30197989.0     27.0             Won   \n",
       "\n",
       "       item type  application  thickness   width        material_ref  \\\n",
       "26             W         10.0        0.8  1000.0                 NaN   \n",
       "104566         W         59.0        2.8   959.0  HRCL_DD 12 2.8X959   \n",
       "\n",
       "        product_ref  delivery date  selling_price  \n",
       "26           611993     20210701.0         1208.0  \n",
       "104566       640665     20201201.0          551.0  "
      ]
     },
     "execution_count": 767,
     "metadata": {},
     "output_type": "execute_result"
    }
   ],
   "source": [
    "df[df['id'].isna()]"
   ]
  },
  {
   "cell_type": "markdown",
   "id": "ea1ffe2b",
   "metadata": {},
   "source": [
    "#### 'id' column will be dropped, so no need to fill missing values."
   ]
  },
  {
   "cell_type": "code",
   "execution_count": null,
   "id": "dc76a966",
   "metadata": {},
   "outputs": [],
   "source": []
  },
  {
   "cell_type": "code",
   "execution_count": null,
   "id": "2b583bc5",
   "metadata": {},
   "outputs": [],
   "source": []
  },
  {
   "cell_type": "code",
   "execution_count": null,
   "id": "3205183b",
   "metadata": {},
   "outputs": [],
   "source": []
  },
  {
   "cell_type": "markdown",
   "id": "4af07baa",
   "metadata": {},
   "source": [
    "#### item_date"
   ]
  },
  {
   "cell_type": "code",
   "execution_count": 768,
   "id": "918edc14",
   "metadata": {},
   "outputs": [
    {
     "data": {
      "text/plain": [
       "count    1.816720e+05\n",
       "mean     2.020459e+07\n",
       "std      4.551119e+03\n",
       "min      1.995000e+07\n",
       "25%      2.020093e+07\n",
       "50%      2.020113e+07\n",
       "75%      2.021020e+07\n",
       "max      2.021040e+07\n",
       "Name: item_date, dtype: float64"
      ]
     },
     "execution_count": 768,
     "metadata": {},
     "output_type": "execute_result"
    }
   ],
   "source": [
    "df['item_date'].describe()"
   ]
  },
  {
   "cell_type": "code",
   "execution_count": 769,
   "id": "d4420cee",
   "metadata": {},
   "outputs": [
    {
     "data": {
      "text/plain": [
       "20201202.0    2779\n",
       "20210304.0    2088\n",
       "20201124.0    1991\n",
       "20210115.0    1928\n",
       "20200929.0    1870\n",
       "              ... \n",
       "20201219.0       1\n",
       "20210313.0       1\n",
       "20191919.0       1\n",
       "20200829.0       1\n",
       "19950000.0       1\n",
       "Name: item_date, Length: 252, dtype: int64"
      ]
     },
     "execution_count": 769,
     "metadata": {},
     "output_type": "execute_result"
    }
   ],
   "source": [
    "df['item_date'].value_counts()"
   ]
  },
  {
   "cell_type": "code",
   "execution_count": 770,
   "id": "94554bd8",
   "metadata": {},
   "outputs": [
    {
     "data": {
      "text/plain": [
       "252"
      ]
     },
     "execution_count": 770,
     "metadata": {},
     "output_type": "execute_result"
    }
   ],
   "source": [
    "len(df['item_date'].value_counts())"
   ]
  },
  {
   "cell_type": "code",
   "execution_count": 771,
   "id": "36aa3667",
   "metadata": {},
   "outputs": [
    {
     "data": {
      "text/html": [
       "<div>\n",
       "<style scoped>\n",
       "    .dataframe tbody tr th:only-of-type {\n",
       "        vertical-align: middle;\n",
       "    }\n",
       "\n",
       "    .dataframe tbody tr th {\n",
       "        vertical-align: top;\n",
       "    }\n",
       "\n",
       "    .dataframe thead th {\n",
       "        text-align: right;\n",
       "    }\n",
       "</style>\n",
       "<table border=\"1\" class=\"dataframe\">\n",
       "  <thead>\n",
       "    <tr style=\"text-align: right;\">\n",
       "      <th></th>\n",
       "      <th>id</th>\n",
       "      <th>item_date</th>\n",
       "      <th>quantity tons</th>\n",
       "      <th>customer</th>\n",
       "      <th>country</th>\n",
       "      <th>status</th>\n",
       "      <th>item type</th>\n",
       "      <th>application</th>\n",
       "      <th>thickness</th>\n",
       "      <th>width</th>\n",
       "      <th>material_ref</th>\n",
       "      <th>product_ref</th>\n",
       "      <th>delivery date</th>\n",
       "      <th>selling_price</th>\n",
       "    </tr>\n",
       "  </thead>\n",
       "  <tbody>\n",
       "    <tr>\n",
       "      <th>104640</th>\n",
       "      <td>1BA92915-36FC-437A-811C-9DC7BF958EA6</td>\n",
       "      <td>NaN</td>\n",
       "      <td>51.785585</td>\n",
       "      <td>30230331.0</td>\n",
       "      <td>80.0</td>\n",
       "      <td>Lost</td>\n",
       "      <td>S</td>\n",
       "      <td>10.0</td>\n",
       "      <td>0.9</td>\n",
       "      <td>1435.0</td>\n",
       "      <td>NaN</td>\n",
       "      <td>628377</td>\n",
       "      <td>20210101.0</td>\n",
       "      <td>654.0</td>\n",
       "    </tr>\n",
       "  </tbody>\n",
       "</table>\n",
       "</div>"
      ],
      "text/plain": [
       "                                          id  item_date quantity tons  \\\n",
       "104640  1BA92915-36FC-437A-811C-9DC7BF958EA6        NaN     51.785585   \n",
       "\n",
       "          customer  country status item type  application  thickness   width  \\\n",
       "104640  30230331.0     80.0   Lost         S         10.0        0.9  1435.0   \n",
       "\n",
       "       material_ref  product_ref  delivery date  selling_price  \n",
       "104640          NaN       628377     20210101.0          654.0  "
      ]
     },
     "execution_count": 771,
     "metadata": {},
     "output_type": "execute_result"
    }
   ],
   "source": [
    "df[df['item_date'].isna()]"
   ]
  },
  {
   "cell_type": "code",
   "execution_count": 772,
   "id": "88ddd6da",
   "metadata": {},
   "outputs": [
    {
     "data": {
      "text/plain": [
       "104640   NaN\n",
       "Name: item_date, dtype: float64"
      ]
     },
     "execution_count": 772,
     "metadata": {},
     "output_type": "execute_result"
    }
   ],
   "source": [
    "df[df['item_date'].isna()]['item_date']"
   ]
  },
  {
   "cell_type": "code",
   "execution_count": 773,
   "id": "03db683f",
   "metadata": {},
   "outputs": [
    {
     "data": {
      "text/html": [
       "<div>\n",
       "<style scoped>\n",
       "    .dataframe tbody tr th:only-of-type {\n",
       "        vertical-align: middle;\n",
       "    }\n",
       "\n",
       "    .dataframe tbody tr th {\n",
       "        vertical-align: top;\n",
       "    }\n",
       "\n",
       "    .dataframe thead th {\n",
       "        text-align: right;\n",
       "    }\n",
       "</style>\n",
       "<table border=\"1\" class=\"dataframe\">\n",
       "  <thead>\n",
       "    <tr style=\"text-align: right;\">\n",
       "      <th></th>\n",
       "      <th>id</th>\n",
       "      <th>item_date</th>\n",
       "      <th>quantity tons</th>\n",
       "      <th>customer</th>\n",
       "      <th>country</th>\n",
       "      <th>status</th>\n",
       "      <th>item type</th>\n",
       "      <th>application</th>\n",
       "      <th>thickness</th>\n",
       "      <th>width</th>\n",
       "      <th>material_ref</th>\n",
       "      <th>product_ref</th>\n",
       "      <th>delivery date</th>\n",
       "      <th>selling_price</th>\n",
       "    </tr>\n",
       "  </thead>\n",
       "  <tbody>\n",
       "    <tr>\n",
       "      <th>104640</th>\n",
       "      <td>1BA92915-36FC-437A-811C-9DC7BF958EA6</td>\n",
       "      <td>NaN</td>\n",
       "      <td>51.785585</td>\n",
       "      <td>30230331.0</td>\n",
       "      <td>80.0</td>\n",
       "      <td>Lost</td>\n",
       "      <td>S</td>\n",
       "      <td>10.0</td>\n",
       "      <td>0.9</td>\n",
       "      <td>1435.0</td>\n",
       "      <td>NaN</td>\n",
       "      <td>628377</td>\n",
       "      <td>20210101.0</td>\n",
       "      <td>654.0</td>\n",
       "    </tr>\n",
       "  </tbody>\n",
       "</table>\n",
       "</div>"
      ],
      "text/plain": [
       "                                          id  item_date quantity tons  \\\n",
       "104640  1BA92915-36FC-437A-811C-9DC7BF958EA6        NaN     51.785585   \n",
       "\n",
       "          customer  country status item type  application  thickness   width  \\\n",
       "104640  30230331.0     80.0   Lost         S         10.0        0.9  1435.0   \n",
       "\n",
       "       material_ref  product_ref  delivery date  selling_price  \n",
       "104640          NaN       628377     20210101.0          654.0  "
      ]
     },
     "execution_count": 773,
     "metadata": {},
     "output_type": "execute_result"
    }
   ],
   "source": [
    "df[df['item_date'].isna()]"
   ]
  },
  {
   "cell_type": "code",
   "execution_count": 774,
   "id": "f1e6496e",
   "metadata": {},
   "outputs": [],
   "source": [
    "df['item_date'].fillna(method ='ffill', inplace = True)"
   ]
  },
  {
   "cell_type": "code",
   "execution_count": 775,
   "id": "da3029d8",
   "metadata": {},
   "outputs": [
    {
     "data": {
      "text/plain": [
       "0"
      ]
     },
     "execution_count": 775,
     "metadata": {},
     "output_type": "execute_result"
    }
   ],
   "source": [
    "df['item_date'].isna().sum()"
   ]
  },
  {
   "cell_type": "code",
   "execution_count": 776,
   "id": "ea0cd6f7",
   "metadata": {
    "scrolled": true
   },
   "outputs": [
    {
     "data": {
      "text/plain": [
       "dtype('float64')"
      ]
     },
     "execution_count": 776,
     "metadata": {},
     "output_type": "execute_result"
    }
   ],
   "source": [
    "df['item_date'].dtypes"
   ]
  },
  {
   "cell_type": "code",
   "execution_count": 777,
   "id": "237a1280",
   "metadata": {
    "scrolled": false
   },
   "outputs": [],
   "source": [
    "# replace invalid dates with pd.NaT using a lambda function\n",
    "df['item_date'] = df['item_date'].apply(lambda x: pd.NaT if not re.match(r'\\d{8}', str(x)) else x)\n",
    "\n",
    "# convert the 'item date' column to datetime format\n",
    "df['item_date'] = pd.to_datetime(df['item_date'], format='%Y%m%d', errors='coerce')\n"
   ]
  },
  {
   "cell_type": "code",
   "execution_count": 778,
   "id": "dee6e1df",
   "metadata": {},
   "outputs": [],
   "source": [
    "df['item_date'].fillna( method ='ffill', inplace = True)"
   ]
  },
  {
   "cell_type": "code",
   "execution_count": 779,
   "id": "565460b6",
   "metadata": {},
   "outputs": [],
   "source": [
    "# Go to 'quantity tons' code block and rectify non-numeric values"
   ]
  },
  {
   "cell_type": "code",
   "execution_count": 780,
   "id": "a6fe6360",
   "metadata": {},
   "outputs": [
    {
     "data": {
      "image/png": "[encoded data removed]",
      "text/plain": [
       "<Figure size 640x480 with 1 Axes>"
      ]
     },
     "metadata": {},
     "output_type": "display_data"
    }
   ],
   "source": [
    "plt.hist(df['item_date'])\n",
    "plt.xlabel('Item Dates')\n",
    "plt.ylabel('Count')\n",
    "plt.title('Histogram of Item Dates')\n",
    "plt.xticks(rotation=90)\n",
    "plt.show()"
   ]
  },
  {
   "cell_type": "code",
   "execution_count": 781,
   "id": "cf2edf9e",
   "metadata": {},
   "outputs": [
    {
     "name": "stderr",
     "output_type": "stream",
     "text": [
      "/tmp/ipykernel_10556/1144902234.py:1: FutureWarning: Treating datetime data as categorical rather than numeric in `.describe` is deprecated and will be removed in a future version of pandas. Specify `datetime_is_numeric=True` to silence this warning and adopt the future behavior now.\n",
      "  df['item_date'].describe()\n"
     ]
    },
    {
     "data": {
      "text/plain": [
       "count                  181673\n",
       "unique                    250\n",
       "top       2020-12-02 00:00:00\n",
       "freq                     2779\n",
       "first     2020-07-02 00:00:00\n",
       "last      2021-04-01 00:00:00\n",
       "Name: item_date, dtype: object"
      ]
     },
     "execution_count": 781,
     "metadata": {},
     "output_type": "execute_result"
    }
   ],
   "source": [
    "df['item_date'].describe()"
   ]
  },
  {
   "cell_type": "code",
   "execution_count": 782,
   "id": "d2a4674f",
   "metadata": {
    "scrolled": true
   },
   "outputs": [
    {
     "data": {
      "text/plain": [
       "0        2021-04-01\n",
       "1        2021-04-01\n",
       "2        2021-04-01\n",
       "3        2021-04-01\n",
       "4        2021-04-01\n",
       "            ...    \n",
       "181668   2020-07-02\n",
       "181669   2020-07-02\n",
       "181670   2020-07-02\n",
       "181671   2020-07-02\n",
       "181672   2020-07-02\n",
       "Name: item_date, Length: 181673, dtype: datetime64[ns]"
      ]
     },
     "execution_count": 782,
     "metadata": {},
     "output_type": "execute_result"
    }
   ],
   "source": [
    "df['item_date']"
   ]
  },
  {
   "cell_type": "code",
   "execution_count": null,
   "id": "76660c57",
   "metadata": {},
   "outputs": [],
   "source": []
  },
  {
   "cell_type": "code",
   "execution_count": null,
   "id": "7443eadf",
   "metadata": {},
   "outputs": [],
   "source": []
  },
  {
   "cell_type": "code",
   "execution_count": null,
   "id": "30f02c0e",
   "metadata": {},
   "outputs": [],
   "source": []
  },
  {
   "cell_type": "markdown",
   "id": "60a34511",
   "metadata": {},
   "source": [
    "#### quantity tons"
   ]
  },
  {
   "cell_type": "code",
   "execution_count": 783,
   "id": "386b39bc",
   "metadata": {
    "scrolled": true
   },
   "outputs": [
    {
     "data": {
      "text/plain": [
       "count     181673.000000\n",
       "unique    181673.000000\n",
       "top           54.151139\n",
       "freq           1.000000\n",
       "Name: quantity tons, dtype: float64"
      ]
     },
     "execution_count": 783,
     "metadata": {},
     "output_type": "execute_result"
    }
   ],
   "source": [
    "df['quantity tons'].describe()"
   ]
  },
  {
   "cell_type": "code",
   "execution_count": 784,
   "id": "6fce9ff5",
   "metadata": {},
   "outputs": [
    {
     "data": {
      "text/plain": [
       "dtype('O')"
      ]
     },
     "execution_count": 784,
     "metadata": {},
     "output_type": "execute_result"
    }
   ],
   "source": [
    "df['quantity tons'].dtype"
   ]
  },
  {
   "cell_type": "code",
   "execution_count": 785,
   "id": "1f5d3536",
   "metadata": {},
   "outputs": [],
   "source": [
    "# Define a function to check if a value is numeric\n",
    "def is_numeric(value):\n",
    "    return bool(re.match(r'^\\d+\\.?\\d*$', str(value)))"
   ]
  },
  {
   "cell_type": "code",
   "execution_count": 786,
   "id": "6fa04867",
   "metadata": {
    "scrolled": true
   },
   "outputs": [
    {
     "data": {
      "text/html": [
       "<div>\n",
       "<style scoped>\n",
       "    .dataframe tbody tr th:only-of-type {\n",
       "        vertical-align: middle;\n",
       "    }\n",
       "\n",
       "    .dataframe tbody tr th {\n",
       "        vertical-align: top;\n",
       "    }\n",
       "\n",
       "    .dataframe thead th {\n",
       "        text-align: right;\n",
       "    }\n",
       "</style>\n",
       "<table border=\"1\" class=\"dataframe\">\n",
       "  <thead>\n",
       "    <tr style=\"text-align: right;\">\n",
       "      <th></th>\n",
       "      <th>id</th>\n",
       "      <th>item_date</th>\n",
       "      <th>quantity tons</th>\n",
       "      <th>customer</th>\n",
       "      <th>country</th>\n",
       "      <th>status</th>\n",
       "      <th>item type</th>\n",
       "      <th>application</th>\n",
       "      <th>thickness</th>\n",
       "      <th>width</th>\n",
       "      <th>material_ref</th>\n",
       "      <th>product_ref</th>\n",
       "      <th>delivery date</th>\n",
       "      <th>selling_price</th>\n",
       "    </tr>\n",
       "  </thead>\n",
       "  <tbody>\n",
       "    <tr>\n",
       "      <th>105730</th>\n",
       "      <td>36820BDA-8CDF-49F3-89A2-C50A55B70CEB</td>\n",
       "      <td>2020-11-11</td>\n",
       "      <td>-4</td>\n",
       "      <td>30203192.0</td>\n",
       "      <td>27.0</td>\n",
       "      <td>Won</td>\n",
       "      <td>S</td>\n",
       "      <td>15.0</td>\n",
       "      <td>1.50</td>\n",
       "      <td>1500.0</td>\n",
       "      <td>NaN</td>\n",
       "      <td>1332077137</td>\n",
       "      <td>20210101.0</td>\n",
       "      <td>723.0</td>\n",
       "    </tr>\n",
       "    <tr>\n",
       "      <th>131473</th>\n",
       "      <td>D03D83BD-3D05-40FB-A71E-6C33CCD06D97</td>\n",
       "      <td>2020-10-02</td>\n",
       "      <td>-1.476794</td>\n",
       "      <td>30199273.0</td>\n",
       "      <td>27.0</td>\n",
       "      <td>Draft</td>\n",
       "      <td>S</td>\n",
       "      <td>10.0</td>\n",
       "      <td>0.60</td>\n",
       "      <td>1220.0</td>\n",
       "      <td>0000000000000000000000000000000000111598</td>\n",
       "      <td>611993</td>\n",
       "      <td>20210101.0</td>\n",
       "      <td>22.0</td>\n",
       "    </tr>\n",
       "    <tr>\n",
       "      <th>173086</th>\n",
       "      <td>3C0A018F-4A85-4D96-A1AA-72BF0F7DC6DD</td>\n",
       "      <td>2020-07-14</td>\n",
       "      <td>e</td>\n",
       "      <td>30157111.0</td>\n",
       "      <td>78.0</td>\n",
       "      <td>Won</td>\n",
       "      <td>W</td>\n",
       "      <td>41.0</td>\n",
       "      <td>0.50</td>\n",
       "      <td>1000.0</td>\n",
       "      <td>NaN</td>\n",
       "      <td>164141591</td>\n",
       "      <td>20200801.0</td>\n",
       "      <td>672.0</td>\n",
       "    </tr>\n",
       "    <tr>\n",
       "      <th>173317</th>\n",
       "      <td>9352E84C-B815-465D-9D43-E1FAB375C7B2</td>\n",
       "      <td>2020-07-14</td>\n",
       "      <td>0.00001</td>\n",
       "      <td>30280854.0</td>\n",
       "      <td>38.0</td>\n",
       "      <td>Lost</td>\n",
       "      <td>S</td>\n",
       "      <td>10.0</td>\n",
       "      <td>0.80</td>\n",
       "      <td>1250.0</td>\n",
       "      <td>NaN</td>\n",
       "      <td>628377</td>\n",
       "      <td>20200901.0</td>\n",
       "      <td>548.0</td>\n",
       "    </tr>\n",
       "    <tr>\n",
       "      <th>181661</th>\n",
       "      <td>802C8D24-710A-4A96-B3B1-F33F383EC455</td>\n",
       "      <td>2020-07-02</td>\n",
       "      <td>-18</td>\n",
       "      <td>30200854.0</td>\n",
       "      <td>25.0</td>\n",
       "      <td>Won</td>\n",
       "      <td>W</td>\n",
       "      <td>41.0</td>\n",
       "      <td>0.84</td>\n",
       "      <td>1220.0</td>\n",
       "      <td>0000000000000000000000000000000001000776</td>\n",
       "      <td>164141591</td>\n",
       "      <td>20200701.0</td>\n",
       "      <td>590.0</td>\n",
       "    </tr>\n",
       "    <tr>\n",
       "      <th>181671</th>\n",
       "      <td>7AFFD323-01D9-4E15-B80D-7D1B03498FC8</td>\n",
       "      <td>2020-07-02</td>\n",
       "      <td>-2000</td>\n",
       "      <td>30200854.0</td>\n",
       "      <td>25.0</td>\n",
       "      <td>Won</td>\n",
       "      <td>W</td>\n",
       "      <td>41.0</td>\n",
       "      <td>0.85</td>\n",
       "      <td>1250.0</td>\n",
       "      <td>0000000000000000000000000000000001001149</td>\n",
       "      <td>164141591</td>\n",
       "      <td>20200701.0</td>\n",
       "      <td>601.0</td>\n",
       "    </tr>\n",
       "  </tbody>\n",
       "</table>\n",
       "</div>"
      ],
      "text/plain": [
       "                                          id  item_date quantity tons  \\\n",
       "105730  36820BDA-8CDF-49F3-89A2-C50A55B70CEB 2020-11-11            -4   \n",
       "131473  D03D83BD-3D05-40FB-A71E-6C33CCD06D97 2020-10-02     -1.476794   \n",
       "173086  3C0A018F-4A85-4D96-A1AA-72BF0F7DC6DD 2020-07-14             e   \n",
       "173317  9352E84C-B815-465D-9D43-E1FAB375C7B2 2020-07-14       0.00001   \n",
       "181661  802C8D24-710A-4A96-B3B1-F33F383EC455 2020-07-02           -18   \n",
       "181671  7AFFD323-01D9-4E15-B80D-7D1B03498FC8 2020-07-02         -2000   \n",
       "\n",
       "          customer  country status item type  application  thickness   width  \\\n",
       "105730  30203192.0     27.0    Won         S         15.0       1.50  1500.0   \n",
       "131473  30199273.0     27.0  Draft         S         10.0       0.60  1220.0   \n",
       "173086  30157111.0     78.0    Won         W         41.0       0.50  1000.0   \n",
       "173317  30280854.0     38.0   Lost         S         10.0       0.80  1250.0   \n",
       "181661  30200854.0     25.0    Won         W         41.0       0.84  1220.0   \n",
       "181671  30200854.0     25.0    Won         W         41.0       0.85  1250.0   \n",
       "\n",
       "                                    material_ref  product_ref  delivery date  \\\n",
       "105730                                       NaN   1332077137     20210101.0   \n",
       "131473  0000000000000000000000000000000000111598       611993     20210101.0   \n",
       "173086                                       NaN    164141591     20200801.0   \n",
       "173317                                       NaN       628377     20200901.0   \n",
       "181661  0000000000000000000000000000000001000776    164141591     20200701.0   \n",
       "181671  0000000000000000000000000000000001001149    164141591     20200701.0   \n",
       "\n",
       "        selling_price  \n",
       "105730          723.0  \n",
       "131473           22.0  \n",
       "173086          672.0  \n",
       "173317          548.0  \n",
       "181661          590.0  \n",
       "181671          601.0  "
      ]
     },
     "execution_count": 786,
     "metadata": {},
     "output_type": "execute_result"
    }
   ],
   "source": [
    "df[df['quantity tons'].apply(is_numeric) == False]"
   ]
  },
  {
   "cell_type": "markdown",
   "id": "fb5a4c26",
   "metadata": {},
   "source": [
    "#### The following 'quantity_tons' values is either negative or non-numeric.\n",
    "#### So I'm going to set these values to NaN.\n",
    "#### Then try and fill these values."
   ]
  },
  {
   "cell_type": "code",
   "execution_count": 787,
   "id": "cece0ec2",
   "metadata": {},
   "outputs": [],
   "source": [
    "df['quantity tons'] = df['quantity tons'].apply(lambda x: float(x) if is_numeric(x) else np.nan)"
   ]
  },
  {
   "cell_type": "code",
   "execution_count": 788,
   "id": "1bfe6b74",
   "metadata": {},
   "outputs": [],
   "source": [
    "df['quantity tons'] = df['quantity tons'].astype('float')"
   ]
  },
  {
   "cell_type": "code",
   "execution_count": 789,
   "id": "37e5b772",
   "metadata": {
    "scrolled": true
   },
   "outputs": [
    {
     "data": {
      "text/plain": [
       "dtype('float64')"
      ]
     },
     "execution_count": 789,
     "metadata": {},
     "output_type": "execute_result"
    }
   ],
   "source": [
    "df['quantity tons'].dtypes"
   ]
  },
  {
   "cell_type": "code",
   "execution_count": 790,
   "id": "01f30f7b",
   "metadata": {},
   "outputs": [],
   "source": [
    "df['quantity tons'] = df['quantity tons'].fillna(df['quantity tons'].median())"
   ]
  },
  {
   "cell_type": "code",
   "execution_count": 791,
   "id": "bee049fd",
   "metadata": {},
   "outputs": [
    {
     "data": {
      "image/png": "[encoded data removed]",
      "text/plain": [
       "<Figure size 640x480 with 1 Axes>"
      ]
     },
     "metadata": {},
     "output_type": "display_data"
    }
   ],
   "source": [
    "plt.hist(df['quantity tons'], bins=np.logspace(np.log10(df['quantity tons'].min()), np.log10(df['quantity tons'].max()), 50))\n",
    "plt.xscale('log')\n",
    "plt.xlabel('Quantity Tons (log scale)')\n",
    "plt.ylabel('Count')\n",
    "plt.title('Histogram of Quantity Tons')\n",
    "plt.show()"
   ]
  },
  {
   "cell_type": "code",
   "execution_count": null,
   "id": "dfcc8bd0",
   "metadata": {},
   "outputs": [],
   "source": []
  },
  {
   "cell_type": "code",
   "execution_count": null,
   "id": "effd50dd",
   "metadata": {},
   "outputs": [],
   "source": []
  },
  {
   "cell_type": "code",
   "execution_count": null,
   "id": "9b0e6d7b",
   "metadata": {},
   "outputs": [],
   "source": []
  },
  {
   "cell_type": "markdown",
   "id": "963bd070",
   "metadata": {},
   "source": [
    "#### customer"
   ]
  },
  {
   "cell_type": "code",
   "execution_count": 792,
   "id": "c5cdbe2c",
   "metadata": {},
   "outputs": [
    {
     "data": {
      "text/plain": [
       "count    1.816720e+05\n",
       "mean     3.051221e+07\n",
       "std      2.433382e+07\n",
       "min      1.245800e+04\n",
       "25%      3.019688e+07\n",
       "50%      3.020524e+07\n",
       "75%      3.028042e+07\n",
       "max      2.147484e+09\n",
       "Name: customer, dtype: float64"
      ]
     },
     "execution_count": 792,
     "metadata": {},
     "output_type": "execute_result"
    }
   ],
   "source": [
    "df['customer'].describe()"
   ]
  },
  {
   "cell_type": "code",
   "execution_count": 793,
   "id": "420e577b",
   "metadata": {},
   "outputs": [
    {
     "data": {
      "text/plain": [
       "30157111.0    4988\n",
       "30161088.0    3733\n",
       "30201846.0    3152\n",
       "30165529.0    2728\n",
       "30202938.0    2570\n",
       "              ... \n",
       "30271383.0       1\n",
       "30356502.0       1\n",
       "30357481.0       1\n",
       "30156053.0       1\n",
       "30271291.0       1\n",
       "Name: customer, Length: 1169, dtype: int64"
      ]
     },
     "execution_count": 793,
     "metadata": {},
     "output_type": "execute_result"
    }
   ],
   "source": [
    "df['customer'].value_counts()"
   ]
  },
  {
   "cell_type": "code",
   "execution_count": 794,
   "id": "b6645937",
   "metadata": {},
   "outputs": [
    {
     "name": "stdout",
     "output_type": "stream",
     "text": [
      "All values in 'my_column' have zero decimal values or are not float\n"
     ]
    }
   ],
   "source": [
    "if any('.' in str(x) and str(x).split('.')[1] != '0' for x in df['customer']):\n",
    "    print(\"There are values in 'my_column' with non-zero decimal values\")\n",
    "else:\n",
    "    print(\"All values in 'my_column' have zero decimal values or are not float\")"
   ]
  },
  {
   "cell_type": "code",
   "execution_count": 795,
   "id": "b7ac9ac0",
   "metadata": {},
   "outputs": [
    {
     "name": "stdout",
     "output_type": "stream",
     "text": [
      "<class 'pandas.core.series.Series'>\n",
      "RangeIndex: 181673 entries, 0 to 181672\n",
      "Series name: customer\n",
      "Non-Null Count   Dtype  \n",
      "--------------   -----  \n",
      "181672 non-null  float64\n",
      "dtypes: float64(1)\n",
      "memory usage: 1.4 MB\n"
     ]
    }
   ],
   "source": [
    "df['customer'].info()"
   ]
  },
  {
   "cell_type": "code",
   "execution_count": 796,
   "id": "7642763e",
   "metadata": {
    "scrolled": true
   },
   "outputs": [
    {
     "data": {
      "text/html": [
       "<div>\n",
       "<style scoped>\n",
       "    .dataframe tbody tr th:only-of-type {\n",
       "        vertical-align: middle;\n",
       "    }\n",
       "\n",
       "    .dataframe tbody tr th {\n",
       "        vertical-align: top;\n",
       "    }\n",
       "\n",
       "    .dataframe thead th {\n",
       "        text-align: right;\n",
       "    }\n",
       "</style>\n",
       "<table border=\"1\" class=\"dataframe\">\n",
       "  <thead>\n",
       "    <tr style=\"text-align: right;\">\n",
       "      <th></th>\n",
       "      <th>id</th>\n",
       "      <th>item_date</th>\n",
       "      <th>quantity tons</th>\n",
       "      <th>customer</th>\n",
       "      <th>country</th>\n",
       "      <th>status</th>\n",
       "      <th>item type</th>\n",
       "      <th>application</th>\n",
       "      <th>thickness</th>\n",
       "      <th>width</th>\n",
       "      <th>material_ref</th>\n",
       "      <th>product_ref</th>\n",
       "      <th>delivery date</th>\n",
       "      <th>selling_price</th>\n",
       "    </tr>\n",
       "  </thead>\n",
       "  <tbody>\n",
       "    <tr>\n",
       "      <th>104684</th>\n",
       "      <td>6E764168-3F32-4E5D-BD67-4B1D959C75E3</td>\n",
       "      <td>2020-11-12</td>\n",
       "      <td>205.266351</td>\n",
       "      <td>NaN</td>\n",
       "      <td>39.0</td>\n",
       "      <td>Won</td>\n",
       "      <td>W</td>\n",
       "      <td>10.0</td>\n",
       "      <td>3.5</td>\n",
       "      <td>1270.0</td>\n",
       "      <td>NaN</td>\n",
       "      <td>1670798778</td>\n",
       "      <td>20210201.0</td>\n",
       "      <td>650.0</td>\n",
       "    </tr>\n",
       "  </tbody>\n",
       "</table>\n",
       "</div>"
      ],
      "text/plain": [
       "                                          id  item_date  quantity tons  \\\n",
       "104684  6E764168-3F32-4E5D-BD67-4B1D959C75E3 2020-11-12     205.266351   \n",
       "\n",
       "        customer  country status item type  application  thickness   width  \\\n",
       "104684       NaN     39.0    Won         W         10.0        3.5  1270.0   \n",
       "\n",
       "       material_ref  product_ref  delivery date  selling_price  \n",
       "104684          NaN   1670798778     20210201.0          650.0  "
      ]
     },
     "execution_count": 796,
     "metadata": {},
     "output_type": "execute_result"
    }
   ],
   "source": [
    "df[df['customer'].isna()]"
   ]
  },
  {
   "cell_type": "code",
   "execution_count": 797,
   "id": "95853644",
   "metadata": {},
   "outputs": [],
   "source": [
    "df['customer'] = df['customer'].fillna(df['customer'].median())"
   ]
  },
  {
   "cell_type": "code",
   "execution_count": 798,
   "id": "ca5975c5",
   "metadata": {},
   "outputs": [],
   "source": [
    "df['customer'] = df['customer'].astype(int)"
   ]
  },
  {
   "cell_type": "code",
   "execution_count": 799,
   "id": "f65539c4",
   "metadata": {},
   "outputs": [
    {
     "data": {
      "text/plain": [
       "0         30156308\n",
       "1         30202938\n",
       "2         30153963\n",
       "3         30349574\n",
       "4         30211560\n",
       "            ...   \n",
       "181668    30200854\n",
       "181669    30200854\n",
       "181670    30200854\n",
       "181671    30200854\n",
       "181672    30200854\n",
       "Name: customer, Length: 181673, dtype: int64"
      ]
     },
     "execution_count": 799,
     "metadata": {},
     "output_type": "execute_result"
    }
   ],
   "source": [
    "df['customer']"
   ]
  },
  {
   "cell_type": "code",
   "execution_count": 800,
   "id": "815b35b0",
   "metadata": {},
   "outputs": [
    {
     "data": {
      "text/plain": [
       "0"
      ]
     },
     "execution_count": 800,
     "metadata": {},
     "output_type": "execute_result"
    }
   ],
   "source": [
    "df['customer'].isna().sum()"
   ]
  },
  {
   "cell_type": "code",
   "execution_count": null,
   "id": "486688d2",
   "metadata": {},
   "outputs": [],
   "source": []
  },
  {
   "cell_type": "code",
   "execution_count": null,
   "id": "76b9bc50",
   "metadata": {},
   "outputs": [],
   "source": []
  },
  {
   "cell_type": "code",
   "execution_count": null,
   "id": "fe3de9d7",
   "metadata": {},
   "outputs": [],
   "source": []
  },
  {
   "cell_type": "markdown",
   "id": "0b42cb69",
   "metadata": {},
   "source": [
    "#### country"
   ]
  },
  {
   "cell_type": "code",
   "execution_count": 801,
   "id": "bf7bfe06",
   "metadata": {},
   "outputs": [
    {
     "data": {
      "text/plain": [
       "0         28.0\n",
       "1         25.0\n",
       "2         30.0\n",
       "3         32.0\n",
       "4         28.0\n",
       "          ... \n",
       "181668    25.0\n",
       "181669    25.0\n",
       "181670    25.0\n",
       "181671    25.0\n",
       "181672    25.0\n",
       "Name: country, Length: 181673, dtype: float64"
      ]
     },
     "execution_count": 801,
     "metadata": {},
     "output_type": "execute_result"
    }
   ],
   "source": [
    "df['country']"
   ]
  },
  {
   "cell_type": "code",
   "execution_count": 802,
   "id": "a621a825",
   "metadata": {},
   "outputs": [
    {
     "data": {
      "text/plain": [
       "28"
      ]
     },
     "execution_count": 802,
     "metadata": {},
     "output_type": "execute_result"
    }
   ],
   "source": [
    "df['country'].isna().sum()"
   ]
  },
  {
   "cell_type": "code",
   "execution_count": 803,
   "id": "874c6f53",
   "metadata": {
    "scrolled": true
   },
   "outputs": [
    {
     "data": {
      "text/plain": [
       "78.0     32084\n",
       "26.0     27516\n",
       "25.0     23362\n",
       "27.0     21511\n",
       "32.0     18658\n",
       "28.0     15824\n",
       "84.0     12776\n",
       "77.0      9714\n",
       "30.0      8702\n",
       "39.0      3731\n",
       "79.0      2742\n",
       "38.0      1712\n",
       "40.0      1683\n",
       "80.0       819\n",
       "113.0      714\n",
       "89.0        92\n",
       "107.0        5\n",
       "Name: country, dtype: int64"
      ]
     },
     "execution_count": 803,
     "metadata": {},
     "output_type": "execute_result"
    }
   ],
   "source": [
    "df['country'].value_counts()"
   ]
  },
  {
   "cell_type": "code",
   "execution_count": 804,
   "id": "da42eab0",
   "metadata": {},
   "outputs": [],
   "source": [
    "df['country'].fillna(df['country'].mode()[0], inplace=True)"
   ]
  },
  {
   "cell_type": "code",
   "execution_count": 805,
   "id": "36f24927",
   "metadata": {},
   "outputs": [],
   "source": [
    "df['country'] = df['country'].astype('int')"
   ]
  },
  {
   "cell_type": "code",
   "execution_count": 806,
   "id": "a057bfda",
   "metadata": {},
   "outputs": [
    {
     "data": {
      "text/plain": [
       "17"
      ]
     },
     "execution_count": 806,
     "metadata": {},
     "output_type": "execute_result"
    }
   ],
   "source": [
    "df['country'].nunique()"
   ]
  },
  {
   "cell_type": "code",
   "execution_count": null,
   "id": "1eed92ee",
   "metadata": {},
   "outputs": [],
   "source": []
  },
  {
   "cell_type": "code",
   "execution_count": null,
   "id": "f8384500",
   "metadata": {},
   "outputs": [],
   "source": []
  },
  {
   "cell_type": "code",
   "execution_count": null,
   "id": "9a682c17",
   "metadata": {},
   "outputs": [],
   "source": []
  },
  {
   "cell_type": "markdown",
   "id": "0789b5b7",
   "metadata": {},
   "source": [
    "#### status"
   ]
  },
  {
   "cell_type": "code",
   "execution_count": 807,
   "id": "dba18029",
   "metadata": {},
   "outputs": [
    {
     "data": {
      "text/plain": [
       "0         Won\n",
       "1         Won\n",
       "2         Won\n",
       "3         Won\n",
       "4         Won\n",
       "         ... \n",
       "181668    Won\n",
       "181669    Won\n",
       "181670    Won\n",
       "181671    Won\n",
       "181672    Won\n",
       "Name: status, Length: 181673, dtype: object"
      ]
     },
     "execution_count": 807,
     "metadata": {},
     "output_type": "execute_result"
    }
   ],
   "source": [
    "df['status']"
   ]
  },
  {
   "cell_type": "code",
   "execution_count": 808,
   "id": "3fe83e6e",
   "metadata": {},
   "outputs": [
    {
     "data": {
      "text/plain": [
       "Won                116010\n",
       "Lost                34438\n",
       "Not lost for AM     19573\n",
       "Revised              4276\n",
       "To be approved       4170\n",
       "Draft                3140\n",
       "Offered                53\n",
       "Offerable              10\n",
       "Wonderful               1\n",
       "Name: status, dtype: int64"
      ]
     },
     "execution_count": 808,
     "metadata": {},
     "output_type": "execute_result"
    }
   ],
   "source": [
    "df['status'].value_counts()"
   ]
  },
  {
   "cell_type": "code",
   "execution_count": 809,
   "id": "b8151f40",
   "metadata": {},
   "outputs": [
    {
     "data": {
      "text/plain": [
       "2"
      ]
     },
     "execution_count": 809,
     "metadata": {},
     "output_type": "execute_result"
    }
   ],
   "source": [
    "df['status'].isna().sum()"
   ]
  },
  {
   "cell_type": "code",
   "execution_count": 810,
   "id": "fc9cf3b2",
   "metadata": {},
   "outputs": [],
   "source": [
    "df['status'].fillna(df['status'].mode()[0], inplace=True)"
   ]
  },
  {
   "cell_type": "code",
   "execution_count": 811,
   "id": "36a1704b",
   "metadata": {},
   "outputs": [
    {
     "data": {
      "text/plain": [
       "Won                116012\n",
       "Lost                34438\n",
       "Not lost for AM     19573\n",
       "Revised              4276\n",
       "To be approved       4170\n",
       "Draft                3140\n",
       "Offered                53\n",
       "Offerable              10\n",
       "Wonderful               1\n",
       "Name: status, dtype: int64"
      ]
     },
     "execution_count": 811,
     "metadata": {},
     "output_type": "execute_result"
    }
   ],
   "source": [
    "df['status'].value_counts()"
   ]
  },
  {
   "cell_type": "code",
   "execution_count": null,
   "id": "c594e8c3",
   "metadata": {},
   "outputs": [],
   "source": []
  },
  {
   "cell_type": "code",
   "execution_count": null,
   "id": "9f0c3d2b",
   "metadata": {},
   "outputs": [],
   "source": []
  },
  {
   "cell_type": "code",
   "execution_count": null,
   "id": "9afec81a",
   "metadata": {},
   "outputs": [],
   "source": []
  },
  {
   "cell_type": "markdown",
   "id": "ee3f8aca",
   "metadata": {},
   "source": [
    "#### item type"
   ]
  },
  {
   "cell_type": "code",
   "execution_count": 812,
   "id": "387fd205",
   "metadata": {},
   "outputs": [
    {
     "data": {
      "text/plain": [
       "0          W\n",
       "1          W\n",
       "2         WI\n",
       "3          S\n",
       "4          W\n",
       "          ..\n",
       "181668     W\n",
       "181669     W\n",
       "181670     W\n",
       "181671     W\n",
       "181672     W\n",
       "Name: item type, Length: 181673, dtype: object"
      ]
     },
     "execution_count": 812,
     "metadata": {},
     "output_type": "execute_result"
    }
   ],
   "source": [
    "df['item type']"
   ]
  },
  {
   "cell_type": "code",
   "execution_count": 813,
   "id": "0969eed6",
   "metadata": {},
   "outputs": [
    {
     "data": {
      "text/plain": [
       "W         105615\n",
       "S          69236\n",
       "PL          5660\n",
       "Others       610\n",
       "WI           524\n",
       "IPL           27\n",
       "SLAWR          1\n",
       "Name: item type, dtype: int64"
      ]
     },
     "execution_count": 813,
     "metadata": {},
     "output_type": "execute_result"
    }
   ],
   "source": [
    "df['item type'].value_counts()"
   ]
  },
  {
   "cell_type": "code",
   "execution_count": 814,
   "id": "ccf51a26",
   "metadata": {},
   "outputs": [
    {
     "data": {
      "text/plain": [
       "0"
      ]
     },
     "execution_count": 814,
     "metadata": {},
     "output_type": "execute_result"
    }
   ],
   "source": [
    "df['item type'].isna().sum()"
   ]
  },
  {
   "cell_type": "code",
   "execution_count": null,
   "id": "eb2f1441",
   "metadata": {},
   "outputs": [],
   "source": []
  },
  {
   "cell_type": "code",
   "execution_count": null,
   "id": "35af17f1",
   "metadata": {},
   "outputs": [],
   "source": []
  },
  {
   "cell_type": "code",
   "execution_count": null,
   "id": "6da589c0",
   "metadata": {},
   "outputs": [],
   "source": []
  },
  {
   "cell_type": "markdown",
   "id": "78d15ccd",
   "metadata": {},
   "source": [
    "#### application"
   ]
  },
  {
   "cell_type": "code",
   "execution_count": 815,
   "id": "6977997f",
   "metadata": {},
   "outputs": [
    {
     "data": {
      "text/plain": [
       "0         10.0\n",
       "1         41.0\n",
       "2         28.0\n",
       "3         59.0\n",
       "4         10.0\n",
       "          ... \n",
       "181668    41.0\n",
       "181669    41.0\n",
       "181670    41.0\n",
       "181671    41.0\n",
       "181672    41.0\n",
       "Name: application, Length: 181673, dtype: float64"
      ]
     },
     "execution_count": 815,
     "metadata": {},
     "output_type": "execute_result"
    }
   ],
   "source": [
    "df['application']"
   ]
  },
  {
   "cell_type": "code",
   "execution_count": 816,
   "id": "8808ef1a",
   "metadata": {},
   "outputs": [
    {
     "data": {
      "text/plain": [
       "10.0    77544\n",
       "41.0    46261\n",
       "15.0    20772\n",
       "59.0     8927\n",
       "42.0     5858\n",
       "56.0     4846\n",
       "29.0     1937\n",
       "27.0     1784\n",
       "26.0     1650\n",
       "28.0     1591\n",
       "40.0     1576\n",
       "25.0     1498\n",
       "79.0     1422\n",
       "22.0     1023\n",
       "20.0      768\n",
       "66.0      718\n",
       "3.0       657\n",
       "38.0      511\n",
       "58.0      447\n",
       "4.0       286\n",
       "39.0      267\n",
       "65.0      247\n",
       "67.0      221\n",
       "68.0      181\n",
       "99.0      146\n",
       "19.0      143\n",
       "69.0      122\n",
       "5.0       110\n",
       "70.0      102\n",
       "2.0        34\n",
       "Name: application, dtype: int64"
      ]
     },
     "execution_count": 816,
     "metadata": {},
     "output_type": "execute_result"
    }
   ],
   "source": [
    "df['application'].value_counts()"
   ]
  },
  {
   "cell_type": "code",
   "execution_count": 817,
   "id": "d25d53a9",
   "metadata": {},
   "outputs": [
    {
     "data": {
      "text/plain": [
       "(array([78631., 21683.,  9483.,  2354., 52119., 14220.,  1489.,  1524.,\n",
       "            0.,   146.]),\n",
       " array([ 2. , 11.7, 21.4, 31.1, 40.8, 50.5, 60.2, 69.9, 79.6, 89.3, 99. ]),\n",
       " <BarContainer object of 10 artists>)"
      ]
     },
     "execution_count": 817,
     "metadata": {},
     "output_type": "execute_result"
    },
    {
     "data": {
      "image/png": "[encoded data removed]",
      "text/plain": [
       "<Figure size 640x480 with 1 Axes>"
      ]
     },
     "metadata": {},
     "output_type": "display_data"
    }
   ],
   "source": [
    "plt.hist(df['application'])"
   ]
  },
  {
   "cell_type": "code",
   "execution_count": 818,
   "id": "323ab259",
   "metadata": {},
   "outputs": [
    {
     "data": {
      "text/plain": [
       "24"
      ]
     },
     "execution_count": 818,
     "metadata": {},
     "output_type": "execute_result"
    }
   ],
   "source": [
    "df['application'].isna().sum()"
   ]
  },
  {
   "cell_type": "code",
   "execution_count": 819,
   "id": "f494e8fa",
   "metadata": {},
   "outputs": [],
   "source": [
    "df['application'].fillna(method ='ffill', inplace=True)"
   ]
  },
  {
   "cell_type": "code",
   "execution_count": 820,
   "id": "eb124c2d",
   "metadata": {},
   "outputs": [
    {
     "data": {
      "text/plain": [
       "0"
      ]
     },
     "execution_count": 820,
     "metadata": {},
     "output_type": "execute_result"
    }
   ],
   "source": [
    "df['application'].isna().sum()"
   ]
  },
  {
   "cell_type": "code",
   "execution_count": null,
   "id": "d096a811",
   "metadata": {},
   "outputs": [],
   "source": []
  },
  {
   "cell_type": "code",
   "execution_count": null,
   "id": "8576b492",
   "metadata": {},
   "outputs": [],
   "source": []
  },
  {
   "cell_type": "code",
   "execution_count": null,
   "id": "7a2aabf9",
   "metadata": {},
   "outputs": [],
   "source": []
  },
  {
   "cell_type": "markdown",
   "id": "8d2bfe7e",
   "metadata": {},
   "source": [
    "#### thickness"
   ]
  },
  {
   "cell_type": "code",
   "execution_count": 821,
   "id": "ee390379",
   "metadata": {},
   "outputs": [
    {
     "data": {
      "text/plain": [
       "0         2.00\n",
       "1         0.80\n",
       "2         0.38\n",
       "3         2.30\n",
       "4         4.00\n",
       "          ... \n",
       "181668    0.96\n",
       "181669    0.95\n",
       "181670    0.71\n",
       "181671    0.85\n",
       "181672    0.71\n",
       "Name: thickness, Length: 181673, dtype: float64"
      ]
     },
     "execution_count": 821,
     "metadata": {},
     "output_type": "execute_result"
    }
   ],
   "source": [
    "df['thickness']"
   ]
  },
  {
   "cell_type": "code",
   "execution_count": 822,
   "id": "439561f2",
   "metadata": {},
   "outputs": [
    {
     "data": {
      "text/plain": [
       "count    181672.000000\n",
       "mean          2.564827\n",
       "std           6.572321\n",
       "min           0.180000\n",
       "25%           0.700000\n",
       "50%           1.500000\n",
       "75%           3.000000\n",
       "max        2500.000000\n",
       "Name: thickness, dtype: float64"
      ]
     },
     "execution_count": 822,
     "metadata": {},
     "output_type": "execute_result"
    }
   ],
   "source": [
    "df['thickness'].describe()"
   ]
  },
  {
   "cell_type": "code",
   "execution_count": 823,
   "id": "f4881334",
   "metadata": {},
   "outputs": [
    {
     "name": "stdout",
     "output_type": "stream",
     "text": [
      "<class 'pandas.core.series.Series'>\n",
      "RangeIndex: 181673 entries, 0 to 181672\n",
      "Series name: thickness\n",
      "Non-Null Count   Dtype  \n",
      "--------------   -----  \n",
      "181672 non-null  float64\n",
      "dtypes: float64(1)\n",
      "memory usage: 1.4 MB\n"
     ]
    }
   ],
   "source": [
    "df['thickness'].info()"
   ]
  },
  {
   "cell_type": "code",
   "execution_count": 824,
   "id": "c61cf5c7",
   "metadata": {},
   "outputs": [
    {
     "data": {
      "text/plain": [
       "2.00     13468\n",
       "3.00     13207\n",
       "0.50     12247\n",
       "1.50     11731\n",
       "1.00      9474\n",
       "         ...  \n",
       "7.06         1\n",
       "9.39         1\n",
       "15.66        1\n",
       "2.28         1\n",
       "15.60        1\n",
       "Name: thickness, Length: 594, dtype: int64"
      ]
     },
     "execution_count": 824,
     "metadata": {},
     "output_type": "execute_result"
    }
   ],
   "source": [
    "df['thickness'].value_counts()"
   ]
  },
  {
   "cell_type": "code",
   "execution_count": 825,
   "id": "ca9e7592",
   "metadata": {},
   "outputs": [
    {
     "data": {
      "text/html": [
       "<div>\n",
       "<style scoped>\n",
       "    .dataframe tbody tr th:only-of-type {\n",
       "        vertical-align: middle;\n",
       "    }\n",
       "\n",
       "    .dataframe tbody tr th {\n",
       "        vertical-align: top;\n",
       "    }\n",
       "\n",
       "    .dataframe thead th {\n",
       "        text-align: right;\n",
       "    }\n",
       "</style>\n",
       "<table border=\"1\" class=\"dataframe\">\n",
       "  <thead>\n",
       "    <tr style=\"text-align: right;\">\n",
       "      <th></th>\n",
       "      <th>id</th>\n",
       "      <th>item_date</th>\n",
       "      <th>quantity tons</th>\n",
       "      <th>customer</th>\n",
       "      <th>country</th>\n",
       "      <th>status</th>\n",
       "      <th>item type</th>\n",
       "      <th>application</th>\n",
       "      <th>thickness</th>\n",
       "      <th>width</th>\n",
       "      <th>material_ref</th>\n",
       "      <th>product_ref</th>\n",
       "      <th>delivery date</th>\n",
       "      <th>selling_price</th>\n",
       "    </tr>\n",
       "  </thead>\n",
       "  <tbody>\n",
       "    <tr>\n",
       "      <th>104895</th>\n",
       "      <td>20838F01-B8AD-4432-B72F-4AC8FBD884A6</td>\n",
       "      <td>2020-11-12</td>\n",
       "      <td>56.464701</td>\n",
       "      <td>30205825</td>\n",
       "      <td>25</td>\n",
       "      <td>Not lost for AM</td>\n",
       "      <td>W</td>\n",
       "      <td>10.0</td>\n",
       "      <td>NaN</td>\n",
       "      <td>1500.0</td>\n",
       "      <td>NaN</td>\n",
       "      <td>1332077137</td>\n",
       "      <td>20210401.0</td>\n",
       "      <td>704.0</td>\n",
       "    </tr>\n",
       "  </tbody>\n",
       "</table>\n",
       "</div>"
      ],
      "text/plain": [
       "                                          id  item_date  quantity tons  \\\n",
       "104895  20838F01-B8AD-4432-B72F-4AC8FBD884A6 2020-11-12      56.464701   \n",
       "\n",
       "        customer  country           status item type  application  thickness  \\\n",
       "104895  30205825       25  Not lost for AM         W         10.0        NaN   \n",
       "\n",
       "         width material_ref  product_ref  delivery date  selling_price  \n",
       "104895  1500.0          NaN   1332077137     20210401.0          704.0  "
      ]
     },
     "execution_count": 825,
     "metadata": {},
     "output_type": "execute_result"
    }
   ],
   "source": [
    "df[df['thickness'].isna()]"
   ]
  },
  {
   "cell_type": "code",
   "execution_count": 826,
   "id": "ab576da9",
   "metadata": {},
   "outputs": [],
   "source": [
    "df['thickness'].fillna(df['thickness'].mode()[0], inplace=True)"
   ]
  },
  {
   "cell_type": "code",
   "execution_count": null,
   "id": "946b5fb1",
   "metadata": {},
   "outputs": [],
   "source": []
  },
  {
   "cell_type": "code",
   "execution_count": null,
   "id": "bbc31ba3",
   "metadata": {},
   "outputs": [],
   "source": []
  },
  {
   "cell_type": "code",
   "execution_count": null,
   "id": "fa8424fc",
   "metadata": {},
   "outputs": [],
   "source": []
  },
  {
   "cell_type": "markdown",
   "id": "307954f4",
   "metadata": {},
   "source": [
    "#### width"
   ]
  },
  {
   "cell_type": "code",
   "execution_count": 827,
   "id": "d20afcdf",
   "metadata": {},
   "outputs": [
    {
     "data": {
      "text/plain": [
       "0         1500.0\n",
       "1         1210.0\n",
       "2          952.0\n",
       "3         1317.0\n",
       "4         2000.0\n",
       "           ...  \n",
       "181668    1220.0\n",
       "181669    1500.0\n",
       "181670    1250.0\n",
       "181671    1250.0\n",
       "181672    1240.0\n",
       "Name: width, Length: 181673, dtype: float64"
      ]
     },
     "execution_count": 827,
     "metadata": {},
     "output_type": "execute_result"
    }
   ],
   "source": [
    "df['width']"
   ]
  },
  {
   "cell_type": "code",
   "execution_count": 828,
   "id": "d4cc5f39",
   "metadata": {
    "scrolled": true
   },
   "outputs": [
    {
     "data": {
      "text/plain": [
       "1250.0    39149\n",
       "1500.0    32681\n",
       "1000.0    12271\n",
       "2000.0     7613\n",
       "1220.0     4785\n",
       "          ...  \n",
       "881.0         1\n",
       "656.0         1\n",
       "406.0         1\n",
       "234.0         1\n",
       "1786.0        1\n",
       "Name: width, Length: 1386, dtype: int64"
      ]
     },
     "execution_count": 828,
     "metadata": {},
     "output_type": "execute_result"
    }
   ],
   "source": [
    "df['width'].value_counts()"
   ]
  },
  {
   "cell_type": "code",
   "execution_count": 829,
   "id": "b53cea06",
   "metadata": {},
   "outputs": [
    {
     "data": {
      "image/png": "[encoded data removed]",
      "text/plain": [
       "<Figure size 640x480 with 1 Axes>"
      ]
     },
     "metadata": {},
     "output_type": "display_data"
    }
   ],
   "source": [
    "plt.hist(df['width'])\n",
    "plt.show()"
   ]
  },
  {
   "cell_type": "code",
   "execution_count": 830,
   "id": "3bcd50d0",
   "metadata": {},
   "outputs": [
    {
     "data": {
      "text/plain": [
       "count    181673.000000\n",
       "mean       1295.286724\n",
       "std         261.631754\n",
       "min           1.000000\n",
       "25%        1180.000000\n",
       "50%        1250.000000\n",
       "75%        1500.000000\n",
       "max        2990.000000\n",
       "Name: width, dtype: float64"
      ]
     },
     "execution_count": 830,
     "metadata": {},
     "output_type": "execute_result"
    }
   ],
   "source": [
    "df['width'].describe()"
   ]
  },
  {
   "cell_type": "code",
   "execution_count": 831,
   "id": "70b6954a",
   "metadata": {},
   "outputs": [
    {
     "data": {
      "text/plain": [
       "0"
      ]
     },
     "execution_count": 831,
     "metadata": {},
     "output_type": "execute_result"
    }
   ],
   "source": [
    "df['width'].isna().sum()"
   ]
  },
  {
   "cell_type": "code",
   "execution_count": 832,
   "id": "3fd6c417",
   "metadata": {},
   "outputs": [
    {
     "data": {
      "text/plain": [
       "1386"
      ]
     },
     "execution_count": 832,
     "metadata": {},
     "output_type": "execute_result"
    }
   ],
   "source": [
    "df['width'].nunique()"
   ]
  },
  {
   "cell_type": "code",
   "execution_count": null,
   "id": "84e8e8f1",
   "metadata": {},
   "outputs": [],
   "source": []
  },
  {
   "cell_type": "code",
   "execution_count": null,
   "id": "8e140a7b",
   "metadata": {},
   "outputs": [],
   "source": []
  },
  {
   "cell_type": "code",
   "execution_count": null,
   "id": "6cf3dab7",
   "metadata": {},
   "outputs": [],
   "source": []
  },
  {
   "cell_type": "markdown",
   "id": "98dc293f",
   "metadata": {},
   "source": [
    "#### material_ref"
   ]
  },
  {
   "cell_type": "code",
   "execution_count": 833,
   "id": "a41fb37d",
   "metadata": {},
   "outputs": [
    {
     "data": {
      "text/plain": [
       "0                                      DEQ1 S460MC\n",
       "1         0000000000000000000000000000000000104991\n",
       "2                                         S0380700\n",
       "3                          DX51D+ZM310MAO 2.3X1317\n",
       "4                                  2_S275JR+AR-CL1\n",
       "                            ...                   \n",
       "181668    0000000000000000000000000000000001000777\n",
       "181669    0000000000000000000000000000000001000227\n",
       "181670    0000000000000000000000000000000001004216\n",
       "181671    0000000000000000000000000000000001001149\n",
       "181672    0000000000000000000000000000000001005439\n",
       "Name: material_ref, Length: 181673, dtype: object"
      ]
     },
     "execution_count": 833,
     "metadata": {},
     "output_type": "execute_result"
    }
   ],
   "source": [
    "df['material_ref']"
   ]
  },
  {
   "cell_type": "code",
   "execution_count": 834,
   "id": "e87bb63a",
   "metadata": {
    "scrolled": false
   },
   "outputs": [
    {
     "data": {
      "text/plain": [
       "77919"
      ]
     },
     "execution_count": 834,
     "metadata": {},
     "output_type": "execute_result"
    }
   ],
   "source": [
    "df['material_ref'].isna().sum()"
   ]
  },
  {
   "cell_type": "code",
   "execution_count": 835,
   "id": "66a0ddf0",
   "metadata": {
    "scrolled": false
   },
   "outputs": [
    {
     "name": "stdout",
     "output_type": "stream",
     "text": [
      "42.89% of NaN values in material_ref\n"
     ]
    }
   ],
   "source": [
    "print(f\"{(df['material_ref'].isna().sum()/len(df) * 100):.2f}% of NaN values in material_ref\")"
   ]
  },
  {
   "cell_type": "code",
   "execution_count": 836,
   "id": "aec1f54e",
   "metadata": {},
   "outputs": [
    {
     "data": {
      "text/plain": [
       "dtype('O')"
      ]
     },
     "execution_count": 836,
     "metadata": {},
     "output_type": "execute_result"
    }
   ],
   "source": [
    "df['material_ref'].dtypes"
   ]
  },
  {
   "cell_type": "code",
   "execution_count": 837,
   "id": "ad465674",
   "metadata": {},
   "outputs": [
    {
     "data": {
      "text/plain": [
       "count      103754\n",
       "unique      16563\n",
       "top       DX51D+Z\n",
       "freq          922\n",
       "Name: material_ref, dtype: object"
      ]
     },
     "execution_count": 837,
     "metadata": {},
     "output_type": "execute_result"
    }
   ],
   "source": [
    "df['material_ref'].describe()"
   ]
  },
  {
   "cell_type": "code",
   "execution_count": 838,
   "id": "035d6548",
   "metadata": {},
   "outputs": [
    {
     "data": {
      "text/plain": [
       "DX51D+Z                                     922\n",
       "G9010                                       856\n",
       "DC01 RED.FLAT KUCHNIA EKO 2.2               777\n",
       "DC01                                        725\n",
       "G9006                                       671\n",
       "                                           ... \n",
       "0000000000000000000000000000000003050080      1\n",
       "0000000000000000000000000000000004001568      1\n",
       "0000000000000000000000000000000003016460      1\n",
       "0000000000000000000000000000000003016459      1\n",
       "202006170005.IO.1.1                           1\n",
       "Name: material_ref, Length: 16563, dtype: int64"
      ]
     },
     "execution_count": 838,
     "metadata": {},
     "output_type": "execute_result"
    }
   ],
   "source": [
    "df['material_ref'].value_counts()"
   ]
  },
  {
   "cell_type": "markdown",
   "id": "a2cfc1b4",
   "metadata": {},
   "source": [
    "#### Most Probably will drop this material_ref"
   ]
  },
  {
   "cell_type": "code",
   "execution_count": null,
   "id": "7d66921e",
   "metadata": {},
   "outputs": [],
   "source": []
  },
  {
   "cell_type": "code",
   "execution_count": null,
   "id": "2a148809",
   "metadata": {},
   "outputs": [],
   "source": []
  },
  {
   "cell_type": "code",
   "execution_count": null,
   "id": "f7c3a200",
   "metadata": {},
   "outputs": [],
   "source": []
  },
  {
   "cell_type": "markdown",
   "id": "0049a004",
   "metadata": {},
   "source": [
    "#### product_ref"
   ]
  },
  {
   "cell_type": "code",
   "execution_count": 839,
   "id": "e203e3a2",
   "metadata": {},
   "outputs": [
    {
     "data": {
      "text/plain": [
       "0         1670798778\n",
       "1         1668701718\n",
       "2             628377\n",
       "3         1668701718\n",
       "4             640665\n",
       "             ...    \n",
       "181668     164141591\n",
       "181669     164141591\n",
       "181670     164141591\n",
       "181671     164141591\n",
       "181672     164141591\n",
       "Name: product_ref, Length: 181673, dtype: int64"
      ]
     },
     "execution_count": 839,
     "metadata": {},
     "output_type": "execute_result"
    }
   ],
   "source": [
    "df['product_ref']"
   ]
  },
  {
   "cell_type": "code",
   "execution_count": 840,
   "id": "f1d4bd2f",
   "metadata": {
    "scrolled": true
   },
   "outputs": [
    {
     "data": {
      "text/plain": [
       "count    1.816730e+05\n",
       "mean     4.739679e+08\n",
       "std      7.175101e+08\n",
       "min      6.117280e+05\n",
       "25%      6.119930e+05\n",
       "50%      6.406650e+05\n",
       "75%      1.332077e+09\n",
       "max      1.722208e+09\n",
       "Name: product_ref, dtype: float64"
      ]
     },
     "execution_count": 840,
     "metadata": {},
     "output_type": "execute_result"
    }
   ],
   "source": [
    "df['product_ref'].describe()"
   ]
  },
  {
   "cell_type": "code",
   "execution_count": 841,
   "id": "3930d7d1",
   "metadata": {},
   "outputs": [],
   "source": [
    "df['product_ref'] = df['product_ref'].astype(int)"
   ]
  },
  {
   "cell_type": "code",
   "execution_count": 842,
   "id": "ec107b7b",
   "metadata": {},
   "outputs": [
    {
     "data": {
      "text/plain": [
       "33"
      ]
     },
     "execution_count": 842,
     "metadata": {},
     "output_type": "execute_result"
    }
   ],
   "source": [
    "len(df['product_ref'].value_counts())"
   ]
  },
  {
   "cell_type": "code",
   "execution_count": 843,
   "id": "16d6501c",
   "metadata": {},
   "outputs": [
    {
     "data": {
      "text/plain": [
       "0"
      ]
     },
     "execution_count": 843,
     "metadata": {},
     "output_type": "execute_result"
    }
   ],
   "source": [
    "df['product_ref'].isna().sum()"
   ]
  },
  {
   "cell_type": "code",
   "execution_count": 844,
   "id": "d5771055",
   "metadata": {},
   "outputs": [
    {
     "data": {
      "text/plain": [
       "0         1670798778\n",
       "1         1668701718\n",
       "2             628377\n",
       "3         1668701718\n",
       "4             640665\n",
       "             ...    \n",
       "181668     164141591\n",
       "181669     164141591\n",
       "181670     164141591\n",
       "181671     164141591\n",
       "181672     164141591\n",
       "Name: product_ref, Length: 181673, dtype: int64"
      ]
     },
     "execution_count": 844,
     "metadata": {},
     "output_type": "execute_result"
    }
   ],
   "source": [
    "df['product_ref']"
   ]
  },
  {
   "cell_type": "code",
   "execution_count": null,
   "id": "3d217b3e",
   "metadata": {},
   "outputs": [],
   "source": []
  },
  {
   "cell_type": "code",
   "execution_count": null,
   "id": "6b078f75",
   "metadata": {},
   "outputs": [],
   "source": []
  },
  {
   "cell_type": "code",
   "execution_count": null,
   "id": "c523babd",
   "metadata": {},
   "outputs": [],
   "source": []
  },
  {
   "cell_type": "markdown",
   "id": "e408fb83",
   "metadata": {},
   "source": [
    "#### delivery date"
   ]
  },
  {
   "cell_type": "code",
   "execution_count": 845,
   "id": "2b229b1c",
   "metadata": {},
   "outputs": [
    {
     "data": {
      "text/plain": [
       "0         20210701.0\n",
       "1         20210401.0\n",
       "2         20210101.0\n",
       "3         20210101.0\n",
       "4         20210301.0\n",
       "             ...    \n",
       "181668    20200701.0\n",
       "181669    20200701.0\n",
       "181670    20200701.0\n",
       "181671    20200701.0\n",
       "181672    20200701.0\n",
       "Name: delivery date, Length: 181673, dtype: float64"
      ]
     },
     "execution_count": 845,
     "metadata": {},
     "output_type": "execute_result"
    }
   ],
   "source": [
    "df['delivery date']"
   ]
  },
  {
   "cell_type": "code",
   "execution_count": 846,
   "id": "badf538d",
   "metadata": {},
   "outputs": [
    {
     "data": {
      "text/plain": [
       "1"
      ]
     },
     "execution_count": 846,
     "metadata": {},
     "output_type": "execute_result"
    }
   ],
   "source": [
    "df['delivery date'].isna().sum()"
   ]
  },
  {
   "cell_type": "code",
   "execution_count": 847,
   "id": "3fd5a071",
   "metadata": {},
   "outputs": [
    {
     "data": {
      "text/plain": [
       "28"
      ]
     },
     "execution_count": 847,
     "metadata": {},
     "output_type": "execute_result"
    }
   ],
   "source": [
    "len(df['delivery date'].value_counts())"
   ]
  },
  {
   "cell_type": "code",
   "execution_count": 848,
   "id": "4c6ed5c4",
   "metadata": {},
   "outputs": [
    {
     "name": "stdout",
     "output_type": "stream",
     "text": [
      "<class 'pandas.core.series.Series'>\n",
      "RangeIndex: 181673 entries, 0 to 181672\n",
      "Series name: delivery date\n",
      "Non-Null Count   Dtype  \n",
      "--------------   -----  \n",
      "181672 non-null  float64\n",
      "dtypes: float64(1)\n",
      "memory usage: 1.4 MB\n"
     ]
    }
   ],
   "source": [
    "df['delivery date'].info()"
   ]
  },
  {
   "cell_type": "code",
   "execution_count": 851,
   "id": "cf63b0bf",
   "metadata": {},
   "outputs": [
    {
     "data": {
      "text/plain": [
       "dtype('float64')"
      ]
     },
     "execution_count": 851,
     "metadata": {},
     "output_type": "execute_result"
    }
   ],
   "source": [
    "df['delivery date'].dtypes"
   ]
  },
  {
   "cell_type": "code",
   "execution_count": 854,
   "id": "6aa37039",
   "metadata": {},
   "outputs": [],
   "source": [
    "df['delivery date'] = pd.to_datetime(df['delivery date'], format='%Y%m%d', errors='coerce')"
   ]
  },
  {
   "cell_type": "code",
   "execution_count": 855,
   "id": "71fb322d",
   "metadata": {},
   "outputs": [
    {
     "data": {
      "text/plain": [
       "3"
      ]
     },
     "execution_count": 855,
     "metadata": {},
     "output_type": "execute_result"
    }
   ],
   "source": [
    "df['delivery date'].isna().sum()"
   ]
  },
  {
   "cell_type": "code",
   "execution_count": 856,
   "id": "9fd4cebe",
   "metadata": {},
   "outputs": [],
   "source": [
    "df['delivery date'].fillna( method ='ffill', inplace = True)"
   ]
  },
  {
   "cell_type": "code",
   "execution_count": 857,
   "id": "ff57c134",
   "metadata": {},
   "outputs": [
    {
     "data": {
      "text/plain": [
       "dtype('<M8[ns]')"
      ]
     },
     "execution_count": 857,
     "metadata": {},
     "output_type": "execute_result"
    }
   ],
   "source": [
    "df['delivery date'].dtypes"
   ]
  },
  {
   "cell_type": "code",
   "execution_count": null,
   "id": "37180386",
   "metadata": {},
   "outputs": [],
   "source": []
  },
  {
   "cell_type": "code",
   "execution_count": null,
   "id": "3b235b24",
   "metadata": {},
   "outputs": [],
   "source": []
  },
  {
   "cell_type": "code",
   "execution_count": null,
   "id": "74b1e681",
   "metadata": {},
   "outputs": [],
   "source": []
  },
  {
   "cell_type": "markdown",
   "id": "1612e3e0",
   "metadata": {},
   "source": [
    "#### selling_price"
   ]
  },
  {
   "cell_type": "code",
   "execution_count": 861,
   "id": "62393fdd",
   "metadata": {},
   "outputs": [
    {
     "data": {
      "text/plain": [
       "0          854.00\n",
       "1         1047.00\n",
       "2          644.33\n",
       "3          768.00\n",
       "4          577.00\n",
       "           ...   \n",
       "181668     591.00\n",
       "181669     589.00\n",
       "181670     619.00\n",
       "181671     601.00\n",
       "181672     607.00\n",
       "Name: selling_price, Length: 181673, dtype: float64"
      ]
     },
     "execution_count": 861,
     "metadata": {},
     "output_type": "execute_result"
    }
   ],
   "source": [
    "df['selling_price']"
   ]
  },
  {
   "cell_type": "code",
   "execution_count": 862,
   "id": "ee077835",
   "metadata": {},
   "outputs": [
    {
     "name": "stdout",
     "output_type": "stream",
     "text": [
      "<class 'pandas.core.series.Series'>\n",
      "RangeIndex: 181673 entries, 0 to 181672\n",
      "Series name: selling_price\n",
      "Non-Null Count   Dtype  \n",
      "--------------   -----  \n",
      "181672 non-null  float64\n",
      "dtypes: float64(1)\n",
      "memory usage: 1.4 MB\n"
     ]
    }
   ],
   "source": [
    "df['selling_price'].info()"
   ]
  },
  {
   "cell_type": "code",
   "execution_count": 863,
   "id": "8d201a8b",
   "metadata": {},
   "outputs": [
    {
     "data": {
      "text/plain": [
       "count    1.816720e+05\n",
       "mean     1.918036e+03\n",
       "std      3.317956e+05\n",
       "min     -1.160000e+03\n",
       "25%      6.690000e+02\n",
       "50%      8.120000e+02\n",
       "75%      9.530000e+02\n",
       "max      1.000010e+08\n",
       "Name: selling_price, dtype: float64"
      ]
     },
     "execution_count": 863,
     "metadata": {},
     "output_type": "execute_result"
    }
   ],
   "source": [
    "df['selling_price'].describe()"
   ]
  },
  {
   "cell_type": "code",
   "execution_count": 877,
   "id": "4b1bc7d1",
   "metadata": {},
   "outputs": [],
   "source": [
    "df['selling_price'].fillna(df['selling_price'].median(), inplace = True)"
   ]
  },
  {
   "cell_type": "code",
   "execution_count": null,
   "id": "5764cbff",
   "metadata": {},
   "outputs": [],
   "source": []
  },
  {
   "cell_type": "code",
   "execution_count": null,
   "id": "65c14d46",
   "metadata": {},
   "outputs": [],
   "source": []
  },
  {
   "cell_type": "code",
   "execution_count": null,
   "id": "15f91598",
   "metadata": {},
   "outputs": [],
   "source": []
  },
  {
   "cell_type": "markdown",
   "id": "3913b855",
   "metadata": {},
   "source": [
    "#### Now we have to drop the columns"
   ]
  },
  {
   "cell_type": "code",
   "execution_count": 887,
   "id": "f49195e7",
   "metadata": {},
   "outputs": [
    {
     "data": {
      "text/html": [
       "<div>\n",
       "<style scoped>\n",
       "    .dataframe tbody tr th:only-of-type {\n",
       "        vertical-align: middle;\n",
       "    }\n",
       "\n",
       "    .dataframe tbody tr th {\n",
       "        vertical-align: top;\n",
       "    }\n",
       "\n",
       "    .dataframe thead th {\n",
       "        text-align: right;\n",
       "    }\n",
       "</style>\n",
       "<table border=\"1\" class=\"dataframe\">\n",
       "  <thead>\n",
       "    <tr style=\"text-align: right;\">\n",
       "      <th></th>\n",
       "      <th>id</th>\n",
       "      <th>item_date</th>\n",
       "      <th>quantity tons</th>\n",
       "      <th>customer</th>\n",
       "      <th>country</th>\n",
       "      <th>status</th>\n",
       "      <th>item type</th>\n",
       "      <th>application</th>\n",
       "      <th>thickness</th>\n",
       "      <th>width</th>\n",
       "      <th>material_ref</th>\n",
       "      <th>product_ref</th>\n",
       "      <th>delivery date</th>\n",
       "      <th>selling_price</th>\n",
       "    </tr>\n",
       "  </thead>\n",
       "  <tbody>\n",
       "    <tr>\n",
       "      <th>0</th>\n",
       "      <td>EC06F063-9DF0-440C-8764-0B0C05A4F6AE</td>\n",
       "      <td>2021-04-01</td>\n",
       "      <td>54.151139</td>\n",
       "      <td>30156308</td>\n",
       "      <td>28</td>\n",
       "      <td>Won</td>\n",
       "      <td>W</td>\n",
       "      <td>10.0</td>\n",
       "      <td>2.00</td>\n",
       "      <td>1500.0</td>\n",
       "      <td>DEQ1 S460MC</td>\n",
       "      <td>1670798778</td>\n",
       "      <td>2021-07-01</td>\n",
       "      <td>854.00</td>\n",
       "    </tr>\n",
       "    <tr>\n",
       "      <th>1</th>\n",
       "      <td>4E5F4B3D-DDDF-499D-AFDE-A3227EC49425</td>\n",
       "      <td>2021-04-01</td>\n",
       "      <td>768.024839</td>\n",
       "      <td>30202938</td>\n",
       "      <td>25</td>\n",
       "      <td>Won</td>\n",
       "      <td>W</td>\n",
       "      <td>41.0</td>\n",
       "      <td>0.80</td>\n",
       "      <td>1210.0</td>\n",
       "      <td>0000000000000000000000000000000000104991</td>\n",
       "      <td>1668701718</td>\n",
       "      <td>2021-04-01</td>\n",
       "      <td>1047.00</td>\n",
       "    </tr>\n",
       "    <tr>\n",
       "      <th>2</th>\n",
       "      <td>E140FF1B-2407-4C02-A0DD-780A093B1158</td>\n",
       "      <td>2021-04-01</td>\n",
       "      <td>386.127949</td>\n",
       "      <td>30153963</td>\n",
       "      <td>30</td>\n",
       "      <td>Won</td>\n",
       "      <td>WI</td>\n",
       "      <td>28.0</td>\n",
       "      <td>0.38</td>\n",
       "      <td>952.0</td>\n",
       "      <td>S0380700</td>\n",
       "      <td>628377</td>\n",
       "      <td>2021-01-01</td>\n",
       "      <td>644.33</td>\n",
       "    </tr>\n",
       "    <tr>\n",
       "      <th>3</th>\n",
       "      <td>F8D507A0-9C62-4EFE-831E-33E1DA53BB50</td>\n",
       "      <td>2021-04-01</td>\n",
       "      <td>202.411065</td>\n",
       "      <td>30349574</td>\n",
       "      <td>32</td>\n",
       "      <td>Won</td>\n",
       "      <td>S</td>\n",
       "      <td>59.0</td>\n",
       "      <td>2.30</td>\n",
       "      <td>1317.0</td>\n",
       "      <td>DX51D+ZM310MAO 2.3X1317</td>\n",
       "      <td>1668701718</td>\n",
       "      <td>2021-01-01</td>\n",
       "      <td>768.00</td>\n",
       "    </tr>\n",
       "    <tr>\n",
       "      <th>4</th>\n",
       "      <td>4E1C4E78-152B-430A-8094-ADD889C9D0AD</td>\n",
       "      <td>2021-04-01</td>\n",
       "      <td>785.526262</td>\n",
       "      <td>30211560</td>\n",
       "      <td>28</td>\n",
       "      <td>Won</td>\n",
       "      <td>W</td>\n",
       "      <td>10.0</td>\n",
       "      <td>4.00</td>\n",
       "      <td>2000.0</td>\n",
       "      <td>2_S275JR+AR-CL1</td>\n",
       "      <td>640665</td>\n",
       "      <td>2021-03-01</td>\n",
       "      <td>577.00</td>\n",
       "    </tr>\n",
       "  </tbody>\n",
       "</table>\n",
       "</div>"
      ],
      "text/plain": [
       "                                     id  item_date  quantity tons  customer  \\\n",
       "0  EC06F063-9DF0-440C-8764-0B0C05A4F6AE 2021-04-01      54.151139  30156308   \n",
       "1  4E5F4B3D-DDDF-499D-AFDE-A3227EC49425 2021-04-01     768.024839  30202938   \n",
       "2  E140FF1B-2407-4C02-A0DD-780A093B1158 2021-04-01     386.127949  30153963   \n",
       "3  F8D507A0-9C62-4EFE-831E-33E1DA53BB50 2021-04-01     202.411065  30349574   \n",
       "4  4E1C4E78-152B-430A-8094-ADD889C9D0AD 2021-04-01     785.526262  30211560   \n",
       "\n",
       "   country status item type  application  thickness   width  \\\n",
       "0       28    Won         W         10.0       2.00  1500.0   \n",
       "1       25    Won         W         41.0       0.80  1210.0   \n",
       "2       30    Won        WI         28.0       0.38   952.0   \n",
       "3       32    Won         S         59.0       2.30  1317.0   \n",
       "4       28    Won         W         10.0       4.00  2000.0   \n",
       "\n",
       "                               material_ref  product_ref delivery date  \\\n",
       "0                               DEQ1 S460MC   1670798778    2021-07-01   \n",
       "1  0000000000000000000000000000000000104991   1668701718    2021-04-01   \n",
       "2                                  S0380700       628377    2021-01-01   \n",
       "3                   DX51D+ZM310MAO 2.3X1317   1668701718    2021-01-01   \n",
       "4                           2_S275JR+AR-CL1       640665    2021-03-01   \n",
       "\n",
       "   selling_price  \n",
       "0         854.00  \n",
       "1        1047.00  \n",
       "2         644.33  \n",
       "3         768.00  \n",
       "4         577.00  "
      ]
     },
     "execution_count": 887,
     "metadata": {},
     "output_type": "execute_result"
    }
   ],
   "source": [
    "df.head()"
   ]
  },
  {
   "cell_type": "code",
   "execution_count": 888,
   "id": "a4611a10",
   "metadata": {},
   "outputs": [
    {
     "data": {
      "text/plain": [
       "Index(['id', 'item_date', 'quantity tons', 'customer', 'country', 'status',\n",
       "       'item type', 'application', 'thickness', 'width', 'material_ref',\n",
       "       'product_ref', 'delivery date', 'selling_price'],\n",
       "      dtype='object')"
      ]
     },
     "execution_count": 888,
     "metadata": {},
     "output_type": "execute_result"
    }
   ],
   "source": [
    "df.columns"
   ]
  },
  {
   "cell_type": "code",
   "execution_count": 899,
   "id": "9cc2aadb",
   "metadata": {},
   "outputs": [],
   "source": [
    "df2 = df.copy()"
   ]
  },
  {
   "cell_type": "code",
   "execution_count": 901,
   "id": "5e1858ab",
   "metadata": {},
   "outputs": [
    {
     "data": {
      "text/html": [
       "<div>\n",
       "<style scoped>\n",
       "    .dataframe tbody tr th:only-of-type {\n",
       "        vertical-align: middle;\n",
       "    }\n",
       "\n",
       "    .dataframe tbody tr th {\n",
       "        vertical-align: top;\n",
       "    }\n",
       "\n",
       "    .dataframe thead th {\n",
       "        text-align: right;\n",
       "    }\n",
       "</style>\n",
       "<table border=\"1\" class=\"dataframe\">\n",
       "  <thead>\n",
       "    <tr style=\"text-align: right;\">\n",
       "      <th></th>\n",
       "      <th>id</th>\n",
       "      <th>item_date</th>\n",
       "      <th>quantity tons</th>\n",
       "      <th>customer</th>\n",
       "      <th>country</th>\n",
       "      <th>status</th>\n",
       "      <th>item type</th>\n",
       "      <th>application</th>\n",
       "      <th>thickness</th>\n",
       "      <th>width</th>\n",
       "      <th>material_ref</th>\n",
       "      <th>product_ref</th>\n",
       "      <th>delivery date</th>\n",
       "      <th>selling_price</th>\n",
       "    </tr>\n",
       "  </thead>\n",
       "  <tbody>\n",
       "    <tr>\n",
       "      <th>0</th>\n",
       "      <td>EC06F063-9DF0-440C-8764-0B0C05A4F6AE</td>\n",
       "      <td>2021-04-01</td>\n",
       "      <td>54.151139</td>\n",
       "      <td>30156308</td>\n",
       "      <td>28</td>\n",
       "      <td>Won</td>\n",
       "      <td>W</td>\n",
       "      <td>10.0</td>\n",
       "      <td>2.00</td>\n",
       "      <td>1500.0</td>\n",
       "      <td>DEQ1 S460MC</td>\n",
       "      <td>1670798778</td>\n",
       "      <td>2021-07-01</td>\n",
       "      <td>854.00</td>\n",
       "    </tr>\n",
       "    <tr>\n",
       "      <th>1</th>\n",
       "      <td>4E5F4B3D-DDDF-499D-AFDE-A3227EC49425</td>\n",
       "      <td>2021-04-01</td>\n",
       "      <td>768.024839</td>\n",
       "      <td>30202938</td>\n",
       "      <td>25</td>\n",
       "      <td>Won</td>\n",
       "      <td>W</td>\n",
       "      <td>41.0</td>\n",
       "      <td>0.80</td>\n",
       "      <td>1210.0</td>\n",
       "      <td>0000000000000000000000000000000000104991</td>\n",
       "      <td>1668701718</td>\n",
       "      <td>2021-04-01</td>\n",
       "      <td>1047.00</td>\n",
       "    </tr>\n",
       "    <tr>\n",
       "      <th>2</th>\n",
       "      <td>E140FF1B-2407-4C02-A0DD-780A093B1158</td>\n",
       "      <td>2021-04-01</td>\n",
       "      <td>386.127949</td>\n",
       "      <td>30153963</td>\n",
       "      <td>30</td>\n",
       "      <td>Won</td>\n",
       "      <td>WI</td>\n",
       "      <td>28.0</td>\n",
       "      <td>0.38</td>\n",
       "      <td>952.0</td>\n",
       "      <td>S0380700</td>\n",
       "      <td>628377</td>\n",
       "      <td>2021-01-01</td>\n",
       "      <td>644.33</td>\n",
       "    </tr>\n",
       "    <tr>\n",
       "      <th>3</th>\n",
       "      <td>F8D507A0-9C62-4EFE-831E-33E1DA53BB50</td>\n",
       "      <td>2021-04-01</td>\n",
       "      <td>202.411065</td>\n",
       "      <td>30349574</td>\n",
       "      <td>32</td>\n",
       "      <td>Won</td>\n",
       "      <td>S</td>\n",
       "      <td>59.0</td>\n",
       "      <td>2.30</td>\n",
       "      <td>1317.0</td>\n",
       "      <td>DX51D+ZM310MAO 2.3X1317</td>\n",
       "      <td>1668701718</td>\n",
       "      <td>2021-01-01</td>\n",
       "      <td>768.00</td>\n",
       "    </tr>\n",
       "    <tr>\n",
       "      <th>4</th>\n",
       "      <td>4E1C4E78-152B-430A-8094-ADD889C9D0AD</td>\n",
       "      <td>2021-04-01</td>\n",
       "      <td>785.526262</td>\n",
       "      <td>30211560</td>\n",
       "      <td>28</td>\n",
       "      <td>Won</td>\n",
       "      <td>W</td>\n",
       "      <td>10.0</td>\n",
       "      <td>4.00</td>\n",
       "      <td>2000.0</td>\n",
       "      <td>2_S275JR+AR-CL1</td>\n",
       "      <td>640665</td>\n",
       "      <td>2021-03-01</td>\n",
       "      <td>577.00</td>\n",
       "    </tr>\n",
       "  </tbody>\n",
       "</table>\n",
       "</div>"
      ],
      "text/plain": [
       "                                     id  item_date  quantity tons  customer  \\\n",
       "0  EC06F063-9DF0-440C-8764-0B0C05A4F6AE 2021-04-01      54.151139  30156308   \n",
       "1  4E5F4B3D-DDDF-499D-AFDE-A3227EC49425 2021-04-01     768.024839  30202938   \n",
       "2  E140FF1B-2407-4C02-A0DD-780A093B1158 2021-04-01     386.127949  30153963   \n",
       "3  F8D507A0-9C62-4EFE-831E-33E1DA53BB50 2021-04-01     202.411065  30349574   \n",
       "4  4E1C4E78-152B-430A-8094-ADD889C9D0AD 2021-04-01     785.526262  30211560   \n",
       "\n",
       "   country status item type  application  thickness   width  \\\n",
       "0       28    Won         W         10.0       2.00  1500.0   \n",
       "1       25    Won         W         41.0       0.80  1210.0   \n",
       "2       30    Won        WI         28.0       0.38   952.0   \n",
       "3       32    Won         S         59.0       2.30  1317.0   \n",
       "4       28    Won         W         10.0       4.00  2000.0   \n",
       "\n",
       "                               material_ref  product_ref delivery date  \\\n",
       "0                               DEQ1 S460MC   1670798778    2021-07-01   \n",
       "1  0000000000000000000000000000000000104991   1668701718    2021-04-01   \n",
       "2                                  S0380700       628377    2021-01-01   \n",
       "3                   DX51D+ZM310MAO 2.3X1317   1668701718    2021-01-01   \n",
       "4                           2_S275JR+AR-CL1       640665    2021-03-01   \n",
       "\n",
       "   selling_price  \n",
       "0         854.00  \n",
       "1        1047.00  \n",
       "2         644.33  \n",
       "3         768.00  \n",
       "4         577.00  "
      ]
     },
     "execution_count": 901,
     "metadata": {},
     "output_type": "execute_result"
    }
   ],
   "source": [
    "df2.head()"
   ]
  },
  {
   "cell_type": "code",
   "execution_count": 902,
   "id": "be31f5a4",
   "metadata": {},
   "outputs": [],
   "source": [
    "df2.drop(['id','material_ref','product_ref'], axis=1, inplace=True)"
   ]
  },
  {
   "cell_type": "code",
   "execution_count": 903,
   "id": "30c5831d",
   "metadata": {},
   "outputs": [
    {
     "data": {
      "text/html": [
       "<div>\n",
       "<style scoped>\n",
       "    .dataframe tbody tr th:only-of-type {\n",
       "        vertical-align: middle;\n",
       "    }\n",
       "\n",
       "    .dataframe tbody tr th {\n",
       "        vertical-align: top;\n",
       "    }\n",
       "\n",
       "    .dataframe thead th {\n",
       "        text-align: right;\n",
       "    }\n",
       "</style>\n",
       "<table border=\"1\" class=\"dataframe\">\n",
       "  <thead>\n",
       "    <tr style=\"text-align: right;\">\n",
       "      <th></th>\n",
       "      <th>item_date</th>\n",
       "      <th>quantity tons</th>\n",
       "      <th>customer</th>\n",
       "      <th>country</th>\n",
       "      <th>status</th>\n",
       "      <th>item type</th>\n",
       "      <th>application</th>\n",
       "      <th>thickness</th>\n",
       "      <th>width</th>\n",
       "      <th>delivery date</th>\n",
       "      <th>selling_price</th>\n",
       "    </tr>\n",
       "  </thead>\n",
       "  <tbody>\n",
       "    <tr>\n",
       "      <th>0</th>\n",
       "      <td>2021-04-01</td>\n",
       "      <td>54.151139</td>\n",
       "      <td>30156308</td>\n",
       "      <td>28</td>\n",
       "      <td>Won</td>\n",
       "      <td>W</td>\n",
       "      <td>10.0</td>\n",
       "      <td>2.00</td>\n",
       "      <td>1500.0</td>\n",
       "      <td>2021-07-01</td>\n",
       "      <td>854.00</td>\n",
       "    </tr>\n",
       "    <tr>\n",
       "      <th>1</th>\n",
       "      <td>2021-04-01</td>\n",
       "      <td>768.024839</td>\n",
       "      <td>30202938</td>\n",
       "      <td>25</td>\n",
       "      <td>Won</td>\n",
       "      <td>W</td>\n",
       "      <td>41.0</td>\n",
       "      <td>0.80</td>\n",
       "      <td>1210.0</td>\n",
       "      <td>2021-04-01</td>\n",
       "      <td>1047.00</td>\n",
       "    </tr>\n",
       "    <tr>\n",
       "      <th>2</th>\n",
       "      <td>2021-04-01</td>\n",
       "      <td>386.127949</td>\n",
       "      <td>30153963</td>\n",
       "      <td>30</td>\n",
       "      <td>Won</td>\n",
       "      <td>WI</td>\n",
       "      <td>28.0</td>\n",
       "      <td>0.38</td>\n",
       "      <td>952.0</td>\n",
       "      <td>2021-01-01</td>\n",
       "      <td>644.33</td>\n",
       "    </tr>\n",
       "    <tr>\n",
       "      <th>3</th>\n",
       "      <td>2021-04-01</td>\n",
       "      <td>202.411065</td>\n",
       "      <td>30349574</td>\n",
       "      <td>32</td>\n",
       "      <td>Won</td>\n",
       "      <td>S</td>\n",
       "      <td>59.0</td>\n",
       "      <td>2.30</td>\n",
       "      <td>1317.0</td>\n",
       "      <td>2021-01-01</td>\n",
       "      <td>768.00</td>\n",
       "    </tr>\n",
       "    <tr>\n",
       "      <th>4</th>\n",
       "      <td>2021-04-01</td>\n",
       "      <td>785.526262</td>\n",
       "      <td>30211560</td>\n",
       "      <td>28</td>\n",
       "      <td>Won</td>\n",
       "      <td>W</td>\n",
       "      <td>10.0</td>\n",
       "      <td>4.00</td>\n",
       "      <td>2000.0</td>\n",
       "      <td>2021-03-01</td>\n",
       "      <td>577.00</td>\n",
       "    </tr>\n",
       "    <tr>\n",
       "      <th>...</th>\n",
       "      <td>...</td>\n",
       "      <td>...</td>\n",
       "      <td>...</td>\n",
       "      <td>...</td>\n",
       "      <td>...</td>\n",
       "      <td>...</td>\n",
       "      <td>...</td>\n",
       "      <td>...</td>\n",
       "      <td>...</td>\n",
       "      <td>...</td>\n",
       "      <td>...</td>\n",
       "    </tr>\n",
       "    <tr>\n",
       "      <th>181668</th>\n",
       "      <td>2020-07-02</td>\n",
       "      <td>102.482422</td>\n",
       "      <td>30200854</td>\n",
       "      <td>25</td>\n",
       "      <td>Won</td>\n",
       "      <td>W</td>\n",
       "      <td>41.0</td>\n",
       "      <td>0.96</td>\n",
       "      <td>1220.0</td>\n",
       "      <td>2020-07-01</td>\n",
       "      <td>591.00</td>\n",
       "    </tr>\n",
       "    <tr>\n",
       "      <th>181669</th>\n",
       "      <td>2020-07-02</td>\n",
       "      <td>208.086469</td>\n",
       "      <td>30200854</td>\n",
       "      <td>25</td>\n",
       "      <td>Won</td>\n",
       "      <td>W</td>\n",
       "      <td>41.0</td>\n",
       "      <td>0.95</td>\n",
       "      <td>1500.0</td>\n",
       "      <td>2020-07-01</td>\n",
       "      <td>589.00</td>\n",
       "    </tr>\n",
       "    <tr>\n",
       "      <th>181670</th>\n",
       "      <td>2020-07-02</td>\n",
       "      <td>4.235594</td>\n",
       "      <td>30200854</td>\n",
       "      <td>25</td>\n",
       "      <td>Won</td>\n",
       "      <td>W</td>\n",
       "      <td>41.0</td>\n",
       "      <td>0.71</td>\n",
       "      <td>1250.0</td>\n",
       "      <td>2020-07-01</td>\n",
       "      <td>619.00</td>\n",
       "    </tr>\n",
       "    <tr>\n",
       "      <th>181671</th>\n",
       "      <td>2020-07-02</td>\n",
       "      <td>30.365022</td>\n",
       "      <td>30200854</td>\n",
       "      <td>25</td>\n",
       "      <td>Won</td>\n",
       "      <td>W</td>\n",
       "      <td>41.0</td>\n",
       "      <td>0.85</td>\n",
       "      <td>1250.0</td>\n",
       "      <td>2020-07-01</td>\n",
       "      <td>601.00</td>\n",
       "    </tr>\n",
       "    <tr>\n",
       "      <th>181672</th>\n",
       "      <td>2020-07-02</td>\n",
       "      <td>406.686538</td>\n",
       "      <td>30200854</td>\n",
       "      <td>25</td>\n",
       "      <td>Won</td>\n",
       "      <td>W</td>\n",
       "      <td>41.0</td>\n",
       "      <td>0.71</td>\n",
       "      <td>1240.0</td>\n",
       "      <td>2020-07-01</td>\n",
       "      <td>607.00</td>\n",
       "    </tr>\n",
       "  </tbody>\n",
       "</table>\n",
       "<p>181673 rows × 11 columns</p>\n",
       "</div>"
      ],
      "text/plain": [
       "        item_date  quantity tons  customer  country status item type  \\\n",
       "0      2021-04-01      54.151139  30156308       28    Won         W   \n",
       "1      2021-04-01     768.024839  30202938       25    Won         W   \n",
       "2      2021-04-01     386.127949  30153963       30    Won        WI   \n",
       "3      2021-04-01     202.411065  30349574       32    Won         S   \n",
       "4      2021-04-01     785.526262  30211560       28    Won         W   \n",
       "...           ...            ...       ...      ...    ...       ...   \n",
       "181668 2020-07-02     102.482422  30200854       25    Won         W   \n",
       "181669 2020-07-02     208.086469  30200854       25    Won         W   \n",
       "181670 2020-07-02       4.235594  30200854       25    Won         W   \n",
       "181671 2020-07-02      30.365022  30200854       25    Won         W   \n",
       "181672 2020-07-02     406.686538  30200854       25    Won         W   \n",
       "\n",
       "        application  thickness   width delivery date  selling_price  \n",
       "0              10.0       2.00  1500.0    2021-07-01         854.00  \n",
       "1              41.0       0.80  1210.0    2021-04-01        1047.00  \n",
       "2              28.0       0.38   952.0    2021-01-01         644.33  \n",
       "3              59.0       2.30  1317.0    2021-01-01         768.00  \n",
       "4              10.0       4.00  2000.0    2021-03-01         577.00  \n",
       "...             ...        ...     ...           ...            ...  \n",
       "181668         41.0       0.96  1220.0    2020-07-01         591.00  \n",
       "181669         41.0       0.95  1500.0    2020-07-01         589.00  \n",
       "181670         41.0       0.71  1250.0    2020-07-01         619.00  \n",
       "181671         41.0       0.85  1250.0    2020-07-01         601.00  \n",
       "181672         41.0       0.71  1240.0    2020-07-01         607.00  \n",
       "\n",
       "[181673 rows x 11 columns]"
      ]
     },
     "execution_count": 903,
     "metadata": {},
     "output_type": "execute_result"
    }
   ],
   "source": [
    "df2"
   ]
  },
  {
   "cell_type": "code",
   "execution_count": 905,
   "id": "3f21ce70",
   "metadata": {},
   "outputs": [
    {
     "data": {
      "text/plain": [
       "item_date        datetime64[ns]\n",
       "quantity tons           float64\n",
       "customer                  int64\n",
       "country                   int64\n",
       "status                   object\n",
       "item type                object\n",
       "application             float64\n",
       "thickness               float64\n",
       "width                   float64\n",
       "delivery date    datetime64[ns]\n",
       "selling_price           float64\n",
       "dtype: object"
      ]
     },
     "execution_count": 905,
     "metadata": {},
     "output_type": "execute_result"
    }
   ],
   "source": [
    "df2.dtypes"
   ]
  },
  {
   "cell_type": "code",
   "execution_count": 906,
   "id": "95c9d757",
   "metadata": {},
   "outputs": [],
   "source": [
    "df2.to_csv('./interm_daily_offers.csv')"
   ]
  },
  {
   "cell_type": "markdown",
   "id": "59c611aa",
   "metadata": {},
   "source": [
    "#### We'll continue the rest in the TRAIN ipynb"
   ]
  }
 ],
 "metadata": {
  "kernelspec": {
   "display_name": "Python 3 (ipykernel)",
   "language": "python",
   "name": "python3"
  },
  "language_info": {
   "codemirror_mode": {
    "name": "ipython",
    "version": 3
   },
   "file_extension": ".py",
   "mimetype": "text/x-python",
   "name": "python",
   "nbconvert_exporter": "python",
   "pygments_lexer": "ipython3",
   "version": "3.10.6"
  }
 },
 "nbformat": 4,
 "nbformat_minor": 5
}
